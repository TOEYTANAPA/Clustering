{
 "cells": [
  {
   "cell_type": "code",
   "execution_count": 2,
   "metadata": {},
   "outputs": [],
   "source": [
    "import numpy as np\n",
    "import matplotlib.pyplot as plt\n",
    "import pandas as pd\n",
    "\n",
    "df=pd.read_csv('file.csv')"
   ]
  },
  {
   "cell_type": "code",
   "execution_count": 3,
   "metadata": {},
   "outputs": [
    {
     "data": {
      "text/html": [
       "<div>\n",
       "<style scoped>\n",
       "    .dataframe tbody tr th:only-of-type {\n",
       "        vertical-align: middle;\n",
       "    }\n",
       "\n",
       "    .dataframe tbody tr th {\n",
       "        vertical-align: top;\n",
       "    }\n",
       "\n",
       "    .dataframe thead th {\n",
       "        text-align: right;\n",
       "    }\n",
       "</style>\n",
       "<table border=\"1\" class=\"dataframe\">\n",
       "  <thead>\n",
       "    <tr style=\"text-align: right;\">\n",
       "      <th></th>\n",
       "      <th>1</th>\n",
       "      <th>enter_store</th>\n",
       "      <th>1.1</th>\n",
       "      <th>2018-02-01 17:01:35.079783+07</th>\n",
       "      <th>1.2</th>\n",
       "    </tr>\n",
       "  </thead>\n",
       "  <tbody>\n",
       "    <tr>\n",
       "      <th>0</th>\n",
       "      <td>2</td>\n",
       "      <td>enter_store</td>\n",
       "      <td>1</td>\n",
       "      <td>2018-02-01 17:02:18.879276+07</td>\n",
       "      <td>1</td>\n",
       "    </tr>\n",
       "    <tr>\n",
       "      <th>1</th>\n",
       "      <td>3</td>\n",
       "      <td>enter_store</td>\n",
       "      <td>1</td>\n",
       "      <td>2018-02-01 17:27:36.844747+07</td>\n",
       "      <td>1</td>\n",
       "    </tr>\n",
       "    <tr>\n",
       "      <th>2</th>\n",
       "      <td>4</td>\n",
       "      <td>enter_store</td>\n",
       "      <td>1</td>\n",
       "      <td>2018-02-01 17:28:10.012911+07</td>\n",
       "      <td>1</td>\n",
       "    </tr>\n",
       "    <tr>\n",
       "      <th>3</th>\n",
       "      <td>5</td>\n",
       "      <td>enter_store</td>\n",
       "      <td>1</td>\n",
       "      <td>2018-02-01 22:22:45.324089+07</td>\n",
       "      <td>1</td>\n",
       "    </tr>\n",
       "    <tr>\n",
       "      <th>4</th>\n",
       "      <td>6</td>\n",
       "      <td>enter_store</td>\n",
       "      <td>1</td>\n",
       "      <td>2018-02-01 22:39:26.98459+07</td>\n",
       "      <td>1</td>\n",
       "    </tr>\n",
       "  </tbody>\n",
       "</table>\n",
       "</div>"
      ],
      "text/plain": [
       "   1  enter_store 1.1  2018-02-01 17:01:35.079783+07  1.2\n",
       "0  2  enter_store   1  2018-02-01 17:02:18.879276+07    1\n",
       "1  3  enter_store   1  2018-02-01 17:27:36.844747+07    1\n",
       "2  4  enter_store   1  2018-02-01 17:28:10.012911+07    1\n",
       "3  5  enter_store   1  2018-02-01 22:22:45.324089+07    1\n",
       "4  6  enter_store   1   2018-02-01 22:39:26.98459+07    1"
      ]
     },
     "execution_count": 3,
     "metadata": {},
     "output_type": "execute_result"
    }
   ],
   "source": [
    "df.head()"
   ]
  },
  {
   "cell_type": "code",
   "execution_count": 4,
   "metadata": {},
   "outputs": [],
   "source": [
    "df.columns = [ 'id_session','action','value','time','user_id']"
   ]
  },
  {
   "cell_type": "code",
   "execution_count": 5,
   "metadata": {},
   "outputs": [
    {
     "data": {
      "text/html": [
       "<div>\n",
       "<style scoped>\n",
       "    .dataframe tbody tr th:only-of-type {\n",
       "        vertical-align: middle;\n",
       "    }\n",
       "\n",
       "    .dataframe tbody tr th {\n",
       "        vertical-align: top;\n",
       "    }\n",
       "\n",
       "    .dataframe thead th {\n",
       "        text-align: right;\n",
       "    }\n",
       "</style>\n",
       "<table border=\"1\" class=\"dataframe\">\n",
       "  <thead>\n",
       "    <tr style=\"text-align: right;\">\n",
       "      <th></th>\n",
       "      <th>id_session</th>\n",
       "      <th>action</th>\n",
       "      <th>value</th>\n",
       "      <th>time</th>\n",
       "      <th>user_id</th>\n",
       "    </tr>\n",
       "  </thead>\n",
       "  <tbody>\n",
       "    <tr>\n",
       "      <th>0</th>\n",
       "      <td>2</td>\n",
       "      <td>enter_store</td>\n",
       "      <td>1</td>\n",
       "      <td>2018-02-01 17:02:18.879276+07</td>\n",
       "      <td>1</td>\n",
       "    </tr>\n",
       "    <tr>\n",
       "      <th>1</th>\n",
       "      <td>3</td>\n",
       "      <td>enter_store</td>\n",
       "      <td>1</td>\n",
       "      <td>2018-02-01 17:27:36.844747+07</td>\n",
       "      <td>1</td>\n",
       "    </tr>\n",
       "    <tr>\n",
       "      <th>2</th>\n",
       "      <td>4</td>\n",
       "      <td>enter_store</td>\n",
       "      <td>1</td>\n",
       "      <td>2018-02-01 17:28:10.012911+07</td>\n",
       "      <td>1</td>\n",
       "    </tr>\n",
       "    <tr>\n",
       "      <th>3</th>\n",
       "      <td>5</td>\n",
       "      <td>enter_store</td>\n",
       "      <td>1</td>\n",
       "      <td>2018-02-01 22:22:45.324089+07</td>\n",
       "      <td>1</td>\n",
       "    </tr>\n",
       "    <tr>\n",
       "      <th>4</th>\n",
       "      <td>6</td>\n",
       "      <td>enter_store</td>\n",
       "      <td>1</td>\n",
       "      <td>2018-02-01 22:39:26.98459+07</td>\n",
       "      <td>1</td>\n",
       "    </tr>\n",
       "  </tbody>\n",
       "</table>\n",
       "</div>"
      ],
      "text/plain": [
       "   id_session       action value                           time  user_id\n",
       "0           2  enter_store     1  2018-02-01 17:02:18.879276+07        1\n",
       "1           3  enter_store     1  2018-02-01 17:27:36.844747+07        1\n",
       "2           4  enter_store     1  2018-02-01 17:28:10.012911+07        1\n",
       "3           5  enter_store     1  2018-02-01 22:22:45.324089+07        1\n",
       "4           6  enter_store     1   2018-02-01 22:39:26.98459+07        1"
      ]
     },
     "execution_count": 5,
     "metadata": {},
     "output_type": "execute_result"
    }
   ],
   "source": [
    "df.head()"
   ]
  },
  {
   "cell_type": "code",
   "execution_count": 6,
   "metadata": {},
   "outputs": [],
   "source": [
    "df=pd.read_csv('inf.csv')"
   ]
  },
  {
   "cell_type": "code",
   "execution_count": 7,
   "metadata": {},
   "outputs": [],
   "source": [
    "df2=df.drop(['id','birthdate','created_at','user_id'],1)"
   ]
  },
  {
   "cell_type": "code",
   "execution_count": 8,
   "metadata": {},
   "outputs": [
    {
     "data": {
      "text/html": [
       "<div>\n",
       "<style scoped>\n",
       "    .dataframe tbody tr th:only-of-type {\n",
       "        vertical-align: middle;\n",
       "    }\n",
       "\n",
       "    .dataframe tbody tr th {\n",
       "        vertical-align: top;\n",
       "    }\n",
       "\n",
       "    .dataframe thead th {\n",
       "        text-align: right;\n",
       "    }\n",
       "</style>\n",
       "<table border=\"1\" class=\"dataframe\">\n",
       "  <thead>\n",
       "    <tr style=\"text-align: right;\">\n",
       "      <th></th>\n",
       "      <th>age</th>\n",
       "      <th>sex</th>\n",
       "      <th>salary</th>\n",
       "      <th>size</th>\n",
       "      <th>breakfast</th>\n",
       "      <th>lunch</th>\n",
       "      <th>dinner</th>\n",
       "      <th>late</th>\n",
       "      <th>taste</th>\n",
       "      <th>price</th>\n",
       "      <th>...</th>\n",
       "      <th>thai</th>\n",
       "      <th>diet</th>\n",
       "      <th>shabu</th>\n",
       "      <th>grill</th>\n",
       "      <th>steak</th>\n",
       "      <th>fastfood</th>\n",
       "      <th>cake</th>\n",
       "      <th>dessert</th>\n",
       "      <th>coffee</th>\n",
       "      <th>juice</th>\n",
       "    </tr>\n",
       "  </thead>\n",
       "  <tbody>\n",
       "    <tr>\n",
       "      <th>0</th>\n",
       "      <td>21</td>\n",
       "      <td>male</td>\n",
       "      <td>น้อยกว่า 10,000</td>\n",
       "      <td>fit</td>\n",
       "      <td>f</td>\n",
       "      <td>t</td>\n",
       "      <td>t</td>\n",
       "      <td>f</td>\n",
       "      <td>t</td>\n",
       "      <td>t</td>\n",
       "      <td>...</td>\n",
       "      <td>f</td>\n",
       "      <td>t</td>\n",
       "      <td>f</td>\n",
       "      <td>f</td>\n",
       "      <td>t</td>\n",
       "      <td>t</td>\n",
       "      <td>t</td>\n",
       "      <td>t</td>\n",
       "      <td>f</td>\n",
       "      <td>t</td>\n",
       "    </tr>\n",
       "    <tr>\n",
       "      <th>1</th>\n",
       "      <td>20</td>\n",
       "      <td>female</td>\n",
       "      <td>น้อยกว่า 10,000</td>\n",
       "      <td>thin</td>\n",
       "      <td>f</td>\n",
       "      <td>t</td>\n",
       "      <td>t</td>\n",
       "      <td>t</td>\n",
       "      <td>t</td>\n",
       "      <td>f</td>\n",
       "      <td>...</td>\n",
       "      <td>f</td>\n",
       "      <td>f</td>\n",
       "      <td>f</td>\n",
       "      <td>f</td>\n",
       "      <td>f</td>\n",
       "      <td>t</td>\n",
       "      <td>t</td>\n",
       "      <td>f</td>\n",
       "      <td>f</td>\n",
       "      <td>f</td>\n",
       "    </tr>\n",
       "    <tr>\n",
       "      <th>2</th>\n",
       "      <td>22</td>\n",
       "      <td>female</td>\n",
       "      <td>น้อยกว่า 10,000</td>\n",
       "      <td>fat</td>\n",
       "      <td>f</td>\n",
       "      <td>t</td>\n",
       "      <td>t</td>\n",
       "      <td>f</td>\n",
       "      <td>t</td>\n",
       "      <td>t</td>\n",
       "      <td>...</td>\n",
       "      <td>t</td>\n",
       "      <td>f</td>\n",
       "      <td>f</td>\n",
       "      <td>f</td>\n",
       "      <td>t</td>\n",
       "      <td>t</td>\n",
       "      <td>f</td>\n",
       "      <td>t</td>\n",
       "      <td>f</td>\n",
       "      <td>t</td>\n",
       "    </tr>\n",
       "    <tr>\n",
       "      <th>3</th>\n",
       "      <td>19</td>\n",
       "      <td>male</td>\n",
       "      <td>น้อยกว่า 10,000</td>\n",
       "      <td>chubby</td>\n",
       "      <td>t</td>\n",
       "      <td>t</td>\n",
       "      <td>t</td>\n",
       "      <td>f</td>\n",
       "      <td>t</td>\n",
       "      <td>t</td>\n",
       "      <td>...</td>\n",
       "      <td>t</td>\n",
       "      <td>f</td>\n",
       "      <td>f</td>\n",
       "      <td>f</td>\n",
       "      <td>f</td>\n",
       "      <td>f</td>\n",
       "      <td>f</td>\n",
       "      <td>t</td>\n",
       "      <td>t</td>\n",
       "      <td>t</td>\n",
       "    </tr>\n",
       "    <tr>\n",
       "      <th>4</th>\n",
       "      <td>18</td>\n",
       "      <td>female</td>\n",
       "      <td>น้อยกว่า 10,000</td>\n",
       "      <td>fat</td>\n",
       "      <td>t</td>\n",
       "      <td>t</td>\n",
       "      <td>t</td>\n",
       "      <td>t</td>\n",
       "      <td>t</td>\n",
       "      <td>t</td>\n",
       "      <td>...</td>\n",
       "      <td>t</td>\n",
       "      <td>t</td>\n",
       "      <td>f</td>\n",
       "      <td>f</td>\n",
       "      <td>t</td>\n",
       "      <td>t</td>\n",
       "      <td>t</td>\n",
       "      <td>t</td>\n",
       "      <td>f</td>\n",
       "      <td>t</td>\n",
       "    </tr>\n",
       "  </tbody>\n",
       "</table>\n",
       "<p>5 rows × 29 columns</p>\n",
       "</div>"
      ],
      "text/plain": [
       "   age     sex           salary    size breakfast lunch dinner late taste  \\\n",
       "0   21    male  น้อยกว่า 10,000     fit         f     t      t    f     t   \n",
       "1   20  female  น้อยกว่า 10,000    thin         f     t      t    t     t   \n",
       "2   22  female  น้อยกว่า 10,000     fat         f     t      t    f     t   \n",
       "3   19    male  น้อยกว่า 10,000  chubby         t     t      t    f     t   \n",
       "4   18  female  น้อยกว่า 10,000     fat         t     t      t    t     t   \n",
       "\n",
       "  price  ...  thai diet shabu grill steak fastfood cake dessert coffee juice  \n",
       "0     t  ...     f    t     f     f     t        t    t       t      f     t  \n",
       "1     f  ...     f    f     f     f     f        t    t       f      f     f  \n",
       "2     t  ...     t    f     f     f     t        t    f       t      f     t  \n",
       "3     t  ...     t    f     f     f     f        f    f       t      t     t  \n",
       "4     t  ...     t    t     f     f     t        t    t       t      f     t  \n",
       "\n",
       "[5 rows x 29 columns]"
      ]
     },
     "execution_count": 8,
     "metadata": {},
     "output_type": "execute_result"
    }
   ],
   "source": [
    "df2.head()"
   ]
  },
  {
   "cell_type": "code",
   "execution_count": 9,
   "metadata": {},
   "outputs": [
    {
     "data": {
      "text/plain": [
       "female    87\n",
       "male      24\n",
       "Name: sex, dtype: int64"
      ]
     },
     "execution_count": 9,
     "metadata": {},
     "output_type": "execute_result"
    }
   ],
   "source": [
    "\n",
    "df2[\"sex\"].value_counts()"
   ]
  },
  {
   "cell_type": "code",
   "execution_count": 10,
   "metadata": {},
   "outputs": [
    {
     "data": {
      "text/plain": [
       " 19    27\n",
       " 21    25\n",
       " 20    24\n",
       " 22    16\n",
       " 18     7\n",
       " 0      4\n",
       " 23     2\n",
       " 53     1\n",
       " 47     1\n",
       " 37     1\n",
       " 34     1\n",
       " 32     1\n",
       "-1      1\n",
       "Name: age, dtype: int64"
      ]
     },
     "execution_count": 10,
     "metadata": {},
     "output_type": "execute_result"
    }
   ],
   "source": [
    "df2[\"age\"].value_counts()"
   ]
  },
  {
   "cell_type": "code",
   "execution_count": 11,
   "metadata": {},
   "outputs": [
    {
     "data": {
      "text/plain": [
       "chubby    39\n",
       "fit       38\n",
       "fat       22\n",
       "thin      12\n",
       "Name: size, dtype: int64"
      ]
     },
     "execution_count": 11,
     "metadata": {},
     "output_type": "execute_result"
    }
   ],
   "source": [
    "df2[\"size\"].value_counts()"
   ]
  },
  {
   "cell_type": "code",
   "execution_count": 12,
   "metadata": {},
   "outputs": [
    {
     "data": {
      "text/plain": [
       "t    66\n",
       "f    45\n",
       "Name: breakfast, dtype: int64"
      ]
     },
     "execution_count": 12,
     "metadata": {},
     "output_type": "execute_result"
    }
   ],
   "source": [
    "df2[\"breakfast\"].value_counts()"
   ]
  },
  {
   "cell_type": "code",
   "execution_count": 13,
   "metadata": {},
   "outputs": [
    {
     "data": {
      "text/plain": [
       "t    98\n",
       "f    13\n",
       "Name: lunch, dtype: int64"
      ]
     },
     "execution_count": 13,
     "metadata": {},
     "output_type": "execute_result"
    }
   ],
   "source": [
    "df2[\"lunch\"].value_counts()"
   ]
  },
  {
   "cell_type": "code",
   "execution_count": 14,
   "metadata": {},
   "outputs": [
    {
     "data": {
      "text/plain": [
       "t    109\n",
       "f      2\n",
       "Name: dinner, dtype: int64"
      ]
     },
     "execution_count": 14,
     "metadata": {},
     "output_type": "execute_result"
    }
   ],
   "source": [
    "df2[\"dinner\"].value_counts()"
   ]
  },
  {
   "cell_type": "code",
   "execution_count": 15,
   "metadata": {},
   "outputs": [
    {
     "data": {
      "text/plain": [
       "t    60\n",
       "f    51\n",
       "Name: late, dtype: int64"
      ]
     },
     "execution_count": 15,
     "metadata": {},
     "output_type": "execute_result"
    }
   ],
   "source": [
    "df2[\"late\"].value_counts()"
   ]
  },
  {
   "cell_type": "code",
   "execution_count": 16,
   "metadata": {},
   "outputs": [],
   "source": [
    "sex = {'male':0,'female':1}\n",
    "size={'thin':0,'fit':1,'chubby':2,'fat':3}\n",
    "salary={'น้อยกว่า 10,000':0,'10,000-19,999':1,'20,000-29,999':2,'30,000-39,999':3,'40,000-49,999':4,'50,000 ขึ้นไป':5}\n",
    "breakfast = {'f':0,'t':1}\n",
    "lunch = {'f':0,'t':1}\n",
    "dinner = {'f':0,'t':1}\n",
    "late = {'f':0,'t':1}\n",
    "taste = {'f':0,'t':1}\n",
    "price = {'f':0,'t':1}\n",
    "service = {'f':0,'t':1}\n",
    "clean = {'f':0,'t':1}\n",
    "at = {'f':0,'t':1}\n",
    "location = {'f':0,'t':1}\n",
    "facebook = {'f':0,'t':1}\n",
    "twitter = {'f':0,'t':1}\n",
    "instagram = {'f':0,'t':1}\n",
    "line = {'f':0,'t':1}\n",
    "japanese = {'f':0,'t':1}\n",
    "thai = {'f':0,'t':1}\n",
    "diet = {'f':0,'t':1}\n",
    "shabu = {'f':0,'t':1}\n",
    "grill = {'f':0,'t':1}\n",
    "steak = {'f':0,'t':1}\n",
    "fastfood = {'f':0,'t':1}\n",
    "cake = {'f':0,'t':1}\n",
    "dessert = {'f':0,'t':1}\n",
    "coffee = {'f':0,'t':1}\n",
    "juice = {'f':0,'t':1}\n",
    "\n",
    "for k,i in df2.iterrows():\n",
    "    if i['sex']==i['sex']:\n",
    "        df2.loc[k,\"sexc\"]=sex[i['sex']]\n",
    "    if i['size']==i['size']:\n",
    "        df2.loc[k,\"sizec\"]=size[i['size']]\n",
    "    if i['salary']==i['salary']:\n",
    "        df2.loc[k,\"salaryc\"]=salary[i['salary']]\n",
    "    if i['breakfast']==i['breakfast']:\n",
    "        df2.loc[k,\"breakfastc\"]=breakfast[i['breakfast']]\n",
    "    if i['lunch']==i['lunch']:\n",
    "        df2.loc[k,\"lunchc\"]=lunch[i['lunch']]\n",
    "    if i['dinner']==i['dinner']:\n",
    "        df2.loc[k,\"dinnerc\"]=breakfast[i['dinner']]\n",
    "    if i['late']==i['late']:\n",
    "        df2.loc[k,\"latec\"]=late[i['late']]\n",
    "    if i['taste']==i['taste']:\n",
    "        df2.loc[k,\"tastec\"]=taste[i['taste']]\n",
    "    if i['price']==i['price']:\n",
    "        df2.loc[k,\"pricec\"]=price[i['price']]\n",
    "    if i['service']==i['service']:\n",
    "        df2.loc[k,\"servicec\"]=service[i['service']]\n",
    "    if i['clean']==i['clean']:\n",
    "        df2.loc[k,\"cleanc\"]=clean[i['clean']]\n",
    "    if i['at']==i['at']:\n",
    "        df2.loc[k,\"atc\"]=at[i['at']]\n",
    "    if i['location']==i['location']:\n",
    "        df2.loc[k,\"locationc\"]=location[i['location']]\n",
    "    if i['facebook']==i['facebook']:\n",
    "        df2.loc[k,\"facebookc\"]=facebook[i['facebook']]\n",
    "    if i['twitter']==i['twitter']:\n",
    "        df2.loc[k,\"twitterc\"]=twitter[i['twitter']]\n",
    "    if i['instagram']==i['instagram']:\n",
    "        df2.loc[k,\"instagramc\"]=instagram[i['instagram']]\n",
    "    if i['line']==i['line']:\n",
    "        df2.loc[k,\"linec\"]=line[i['line']]\n",
    "    if i['japanese']==i['japanese']:\n",
    "        df2.loc[k,\"japanesec\"]=japanese[i['japanese']]\n",
    "    if i['thai']==i['thai']:\n",
    "        df2.loc[k,\"thaic\"]=thai[i['thai']]\n",
    "    if i['diet']==i['diet']:\n",
    "        df2.loc[k,\"dietc\"]=diet[i['diet']]\n",
    "    if i['shabu']==i['shabu']:\n",
    "        df2.loc[k,\"shabuc\"]=shabu[i['shabu']]\n",
    "    if i['grill']==i['grill']:\n",
    "        df2.loc[k,\"grillc\"]=grill[i['grill']]\n",
    "    if i['steak']==i['steak']:\n",
    "        df2.loc[k,\"steakc\"]=steak[i['steak']]\n",
    "    if i['fastfood']==i['fastfood']:\n",
    "        df2.loc[k,\"fastfoodc\"]=fastfood[i['fastfood']]\n",
    "    if i['cake']==i['cake']:\n",
    "        df2.loc[k,\"cakec\"]=grill[i['cake']]\n",
    "    if i['dessert']==i['dessert']:\n",
    "        df2.loc[k,\"dessertc\"]=dessert[i['dessert']]\n",
    "    if i['coffee']==i['coffee']:\n",
    "        df2.loc[k,\"coffeec\"]=coffee[i['coffee']]\n",
    "    if i['juice']==i['juice']:\n",
    "        df2.loc[k,\"juicec\"]=juice[i['juice']]\n",
    "    "
   ]
  },
  {
   "cell_type": "code",
   "execution_count": 17,
   "metadata": {},
   "outputs": [
    {
     "data": {
      "text/html": [
       "<div>\n",
       "<style scoped>\n",
       "    .dataframe tbody tr th:only-of-type {\n",
       "        vertical-align: middle;\n",
       "    }\n",
       "\n",
       "    .dataframe tbody tr th {\n",
       "        vertical-align: top;\n",
       "    }\n",
       "\n",
       "    .dataframe thead th {\n",
       "        text-align: right;\n",
       "    }\n",
       "</style>\n",
       "<table border=\"1\" class=\"dataframe\">\n",
       "  <thead>\n",
       "    <tr style=\"text-align: right;\">\n",
       "      <th></th>\n",
       "      <th>age</th>\n",
       "      <th>sex</th>\n",
       "      <th>salary</th>\n",
       "      <th>size</th>\n",
       "      <th>breakfast</th>\n",
       "      <th>lunch</th>\n",
       "      <th>dinner</th>\n",
       "      <th>late</th>\n",
       "      <th>taste</th>\n",
       "      <th>price</th>\n",
       "      <th>...</th>\n",
       "      <th>thaic</th>\n",
       "      <th>dietc</th>\n",
       "      <th>shabuc</th>\n",
       "      <th>grillc</th>\n",
       "      <th>steakc</th>\n",
       "      <th>fastfoodc</th>\n",
       "      <th>cakec</th>\n",
       "      <th>dessertc</th>\n",
       "      <th>coffeec</th>\n",
       "      <th>juicec</th>\n",
       "    </tr>\n",
       "  </thead>\n",
       "  <tbody>\n",
       "    <tr>\n",
       "      <th>0</th>\n",
       "      <td>21</td>\n",
       "      <td>male</td>\n",
       "      <td>น้อยกว่า 10,000</td>\n",
       "      <td>fit</td>\n",
       "      <td>f</td>\n",
       "      <td>t</td>\n",
       "      <td>t</td>\n",
       "      <td>f</td>\n",
       "      <td>t</td>\n",
       "      <td>t</td>\n",
       "      <td>...</td>\n",
       "      <td>0.0</td>\n",
       "      <td>1.0</td>\n",
       "      <td>0.0</td>\n",
       "      <td>0.0</td>\n",
       "      <td>1.0</td>\n",
       "      <td>1.0</td>\n",
       "      <td>1.0</td>\n",
       "      <td>1.0</td>\n",
       "      <td>0.0</td>\n",
       "      <td>1.0</td>\n",
       "    </tr>\n",
       "    <tr>\n",
       "      <th>1</th>\n",
       "      <td>20</td>\n",
       "      <td>female</td>\n",
       "      <td>น้อยกว่า 10,000</td>\n",
       "      <td>thin</td>\n",
       "      <td>f</td>\n",
       "      <td>t</td>\n",
       "      <td>t</td>\n",
       "      <td>t</td>\n",
       "      <td>t</td>\n",
       "      <td>f</td>\n",
       "      <td>...</td>\n",
       "      <td>0.0</td>\n",
       "      <td>0.0</td>\n",
       "      <td>0.0</td>\n",
       "      <td>0.0</td>\n",
       "      <td>0.0</td>\n",
       "      <td>1.0</td>\n",
       "      <td>1.0</td>\n",
       "      <td>0.0</td>\n",
       "      <td>0.0</td>\n",
       "      <td>0.0</td>\n",
       "    </tr>\n",
       "    <tr>\n",
       "      <th>2</th>\n",
       "      <td>22</td>\n",
       "      <td>female</td>\n",
       "      <td>น้อยกว่า 10,000</td>\n",
       "      <td>fat</td>\n",
       "      <td>f</td>\n",
       "      <td>t</td>\n",
       "      <td>t</td>\n",
       "      <td>f</td>\n",
       "      <td>t</td>\n",
       "      <td>t</td>\n",
       "      <td>...</td>\n",
       "      <td>1.0</td>\n",
       "      <td>0.0</td>\n",
       "      <td>0.0</td>\n",
       "      <td>0.0</td>\n",
       "      <td>1.0</td>\n",
       "      <td>1.0</td>\n",
       "      <td>0.0</td>\n",
       "      <td>1.0</td>\n",
       "      <td>0.0</td>\n",
       "      <td>1.0</td>\n",
       "    </tr>\n",
       "    <tr>\n",
       "      <th>3</th>\n",
       "      <td>19</td>\n",
       "      <td>male</td>\n",
       "      <td>น้อยกว่า 10,000</td>\n",
       "      <td>chubby</td>\n",
       "      <td>t</td>\n",
       "      <td>t</td>\n",
       "      <td>t</td>\n",
       "      <td>f</td>\n",
       "      <td>t</td>\n",
       "      <td>t</td>\n",
       "      <td>...</td>\n",
       "      <td>1.0</td>\n",
       "      <td>0.0</td>\n",
       "      <td>0.0</td>\n",
       "      <td>0.0</td>\n",
       "      <td>0.0</td>\n",
       "      <td>0.0</td>\n",
       "      <td>0.0</td>\n",
       "      <td>1.0</td>\n",
       "      <td>1.0</td>\n",
       "      <td>1.0</td>\n",
       "    </tr>\n",
       "    <tr>\n",
       "      <th>4</th>\n",
       "      <td>18</td>\n",
       "      <td>female</td>\n",
       "      <td>น้อยกว่า 10,000</td>\n",
       "      <td>fat</td>\n",
       "      <td>t</td>\n",
       "      <td>t</td>\n",
       "      <td>t</td>\n",
       "      <td>t</td>\n",
       "      <td>t</td>\n",
       "      <td>t</td>\n",
       "      <td>...</td>\n",
       "      <td>1.0</td>\n",
       "      <td>1.0</td>\n",
       "      <td>0.0</td>\n",
       "      <td>0.0</td>\n",
       "      <td>1.0</td>\n",
       "      <td>1.0</td>\n",
       "      <td>1.0</td>\n",
       "      <td>1.0</td>\n",
       "      <td>0.0</td>\n",
       "      <td>1.0</td>\n",
       "    </tr>\n",
       "  </tbody>\n",
       "</table>\n",
       "<p>5 rows × 57 columns</p>\n",
       "</div>"
      ],
      "text/plain": [
       "   age     sex           salary    size breakfast lunch dinner late taste  \\\n",
       "0   21    male  น้อยกว่า 10,000     fit         f     t      t    f     t   \n",
       "1   20  female  น้อยกว่า 10,000    thin         f     t      t    t     t   \n",
       "2   22  female  น้อยกว่า 10,000     fat         f     t      t    f     t   \n",
       "3   19    male  น้อยกว่า 10,000  chubby         t     t      t    f     t   \n",
       "4   18  female  น้อยกว่า 10,000     fat         t     t      t    t     t   \n",
       "\n",
       "  price  ...   thaic dietc shabuc grillc steakc fastfoodc cakec dessertc  \\\n",
       "0     t  ...     0.0   1.0    0.0    0.0    1.0       1.0   1.0      1.0   \n",
       "1     f  ...     0.0   0.0    0.0    0.0    0.0       1.0   1.0      0.0   \n",
       "2     t  ...     1.0   0.0    0.0    0.0    1.0       1.0   0.0      1.0   \n",
       "3     t  ...     1.0   0.0    0.0    0.0    0.0       0.0   0.0      1.0   \n",
       "4     t  ...     1.0   1.0    0.0    0.0    1.0       1.0   1.0      1.0   \n",
       "\n",
       "  coffeec juicec  \n",
       "0     0.0    1.0  \n",
       "1     0.0    0.0  \n",
       "2     0.0    1.0  \n",
       "3     1.0    1.0  \n",
       "4     0.0    1.0  \n",
       "\n",
       "[5 rows x 57 columns]"
      ]
     },
     "execution_count": 17,
     "metadata": {},
     "output_type": "execute_result"
    }
   ],
   "source": [
    "df2.head()"
   ]
  },
  {
   "cell_type": "code",
   "execution_count": 18,
   "metadata": {},
   "outputs": [],
   "source": [
    "df2=df2.drop(['sex','size','salary'\n",
    "            ,'breakfast','lunch','dinner','late','taste','price','service','clean',\n",
    "            'at','location','facebook','twitter','instagram','line','japanese','thai','diet','shabu','grill',\n",
    "            'steak','fastfood','cake','dessert','coffee','juice'],1)"
   ]
  },
  {
   "cell_type": "code",
   "execution_count": 20,
   "metadata": {},
   "outputs": [
    {
     "data": {
      "text/html": [
       "<div>\n",
       "<style scoped>\n",
       "    .dataframe tbody tr th:only-of-type {\n",
       "        vertical-align: middle;\n",
       "    }\n",
       "\n",
       "    .dataframe tbody tr th {\n",
       "        vertical-align: top;\n",
       "    }\n",
       "\n",
       "    .dataframe thead th {\n",
       "        text-align: right;\n",
       "    }\n",
       "</style>\n",
       "<table border=\"1\" class=\"dataframe\">\n",
       "  <thead>\n",
       "    <tr style=\"text-align: right;\">\n",
       "      <th></th>\n",
       "      <th>age</th>\n",
       "      <th>sexc</th>\n",
       "      <th>sizec</th>\n",
       "      <th>salaryc</th>\n",
       "      <th>breakfastc</th>\n",
       "      <th>lunchc</th>\n",
       "      <th>dinnerc</th>\n",
       "      <th>latec</th>\n",
       "      <th>tastec</th>\n",
       "      <th>pricec</th>\n",
       "      <th>...</th>\n",
       "      <th>thaic</th>\n",
       "      <th>dietc</th>\n",
       "      <th>shabuc</th>\n",
       "      <th>grillc</th>\n",
       "      <th>steakc</th>\n",
       "      <th>fastfoodc</th>\n",
       "      <th>cakec</th>\n",
       "      <th>dessertc</th>\n",
       "      <th>coffeec</th>\n",
       "      <th>juicec</th>\n",
       "    </tr>\n",
       "  </thead>\n",
       "  <tbody>\n",
       "    <tr>\n",
       "      <th>0</th>\n",
       "      <td>21</td>\n",
       "      <td>0.0</td>\n",
       "      <td>1.0</td>\n",
       "      <td>0.0</td>\n",
       "      <td>0.0</td>\n",
       "      <td>1.0</td>\n",
       "      <td>1.0</td>\n",
       "      <td>0.0</td>\n",
       "      <td>1.0</td>\n",
       "      <td>1.0</td>\n",
       "      <td>...</td>\n",
       "      <td>0.0</td>\n",
       "      <td>1.0</td>\n",
       "      <td>0.0</td>\n",
       "      <td>0.0</td>\n",
       "      <td>1.0</td>\n",
       "      <td>1.0</td>\n",
       "      <td>1.0</td>\n",
       "      <td>1.0</td>\n",
       "      <td>0.0</td>\n",
       "      <td>1.0</td>\n",
       "    </tr>\n",
       "    <tr>\n",
       "      <th>1</th>\n",
       "      <td>20</td>\n",
       "      <td>1.0</td>\n",
       "      <td>0.0</td>\n",
       "      <td>0.0</td>\n",
       "      <td>0.0</td>\n",
       "      <td>1.0</td>\n",
       "      <td>1.0</td>\n",
       "      <td>1.0</td>\n",
       "      <td>1.0</td>\n",
       "      <td>0.0</td>\n",
       "      <td>...</td>\n",
       "      <td>0.0</td>\n",
       "      <td>0.0</td>\n",
       "      <td>0.0</td>\n",
       "      <td>0.0</td>\n",
       "      <td>0.0</td>\n",
       "      <td>1.0</td>\n",
       "      <td>1.0</td>\n",
       "      <td>0.0</td>\n",
       "      <td>0.0</td>\n",
       "      <td>0.0</td>\n",
       "    </tr>\n",
       "    <tr>\n",
       "      <th>2</th>\n",
       "      <td>22</td>\n",
       "      <td>1.0</td>\n",
       "      <td>3.0</td>\n",
       "      <td>0.0</td>\n",
       "      <td>0.0</td>\n",
       "      <td>1.0</td>\n",
       "      <td>1.0</td>\n",
       "      <td>0.0</td>\n",
       "      <td>1.0</td>\n",
       "      <td>1.0</td>\n",
       "      <td>...</td>\n",
       "      <td>1.0</td>\n",
       "      <td>0.0</td>\n",
       "      <td>0.0</td>\n",
       "      <td>0.0</td>\n",
       "      <td>1.0</td>\n",
       "      <td>1.0</td>\n",
       "      <td>0.0</td>\n",
       "      <td>1.0</td>\n",
       "      <td>0.0</td>\n",
       "      <td>1.0</td>\n",
       "    </tr>\n",
       "    <tr>\n",
       "      <th>3</th>\n",
       "      <td>19</td>\n",
       "      <td>0.0</td>\n",
       "      <td>2.0</td>\n",
       "      <td>0.0</td>\n",
       "      <td>1.0</td>\n",
       "      <td>1.0</td>\n",
       "      <td>1.0</td>\n",
       "      <td>0.0</td>\n",
       "      <td>1.0</td>\n",
       "      <td>1.0</td>\n",
       "      <td>...</td>\n",
       "      <td>1.0</td>\n",
       "      <td>0.0</td>\n",
       "      <td>0.0</td>\n",
       "      <td>0.0</td>\n",
       "      <td>0.0</td>\n",
       "      <td>0.0</td>\n",
       "      <td>0.0</td>\n",
       "      <td>1.0</td>\n",
       "      <td>1.0</td>\n",
       "      <td>1.0</td>\n",
       "    </tr>\n",
       "    <tr>\n",
       "      <th>4</th>\n",
       "      <td>18</td>\n",
       "      <td>1.0</td>\n",
       "      <td>3.0</td>\n",
       "      <td>0.0</td>\n",
       "      <td>1.0</td>\n",
       "      <td>1.0</td>\n",
       "      <td>1.0</td>\n",
       "      <td>1.0</td>\n",
       "      <td>1.0</td>\n",
       "      <td>1.0</td>\n",
       "      <td>...</td>\n",
       "      <td>1.0</td>\n",
       "      <td>1.0</td>\n",
       "      <td>0.0</td>\n",
       "      <td>0.0</td>\n",
       "      <td>1.0</td>\n",
       "      <td>1.0</td>\n",
       "      <td>1.0</td>\n",
       "      <td>1.0</td>\n",
       "      <td>0.0</td>\n",
       "      <td>1.0</td>\n",
       "    </tr>\n",
       "  </tbody>\n",
       "</table>\n",
       "<p>5 rows × 29 columns</p>\n",
       "</div>"
      ],
      "text/plain": [
       "   age  sexc  sizec  salaryc  breakfastc  lunchc  dinnerc  latec  tastec  \\\n",
       "0   21   0.0    1.0      0.0         0.0     1.0      1.0    0.0     1.0   \n",
       "1   20   1.0    0.0      0.0         0.0     1.0      1.0    1.0     1.0   \n",
       "2   22   1.0    3.0      0.0         0.0     1.0      1.0    0.0     1.0   \n",
       "3   19   0.0    2.0      0.0         1.0     1.0      1.0    0.0     1.0   \n",
       "4   18   1.0    3.0      0.0         1.0     1.0      1.0    1.0     1.0   \n",
       "\n",
       "   pricec   ...    thaic  dietc  shabuc  grillc  steakc  fastfoodc  cakec  \\\n",
       "0     1.0   ...      0.0    1.0     0.0     0.0     1.0        1.0    1.0   \n",
       "1     0.0   ...      0.0    0.0     0.0     0.0     0.0        1.0    1.0   \n",
       "2     1.0   ...      1.0    0.0     0.0     0.0     1.0        1.0    0.0   \n",
       "3     1.0   ...      1.0    0.0     0.0     0.0     0.0        0.0    0.0   \n",
       "4     1.0   ...      1.0    1.0     0.0     0.0     1.0        1.0    1.0   \n",
       "\n",
       "   dessertc  coffeec  juicec  \n",
       "0       1.0      0.0     1.0  \n",
       "1       0.0      0.0     0.0  \n",
       "2       1.0      0.0     1.0  \n",
       "3       1.0      1.0     1.0  \n",
       "4       1.0      0.0     1.0  \n",
       "\n",
       "[5 rows x 29 columns]"
      ]
     },
     "execution_count": 20,
     "metadata": {},
     "output_type": "execute_result"
    }
   ],
   "source": [
    "df2.head()"
   ]
  },
  {
   "cell_type": "code",
   "execution_count": 19,
   "metadata": {},
   "outputs": [
    {
     "name": "stdout",
     "output_type": "stream",
     "text": [
      "n_digits: 10, \t n_samples 1797, \t n_features 64\n",
      "__________________________________________________________________________________\n",
      "init\t\ttime\tinertia\thomo\tcompl\tv-meas\tARI\tAMI\tsilhouette\n",
      "k-means++\t0.24s\t69432\t0.602\t0.650\t0.625\t0.465\t0.598\t0.146\n",
      "random   \t0.15s\t69694\t0.669\t0.710\t0.689\t0.553\t0.666\t0.147\n",
      "PCA-based\t0.03s\t70804\t0.671\t0.698\t0.684\t0.561\t0.668\t0.118\n",
      "__________________________________________________________________________________\n"
     ]
    },
    {
     "data": {
      "image/png": "[encoded data removed]",
      "text/plain": [
       "<matplotlib.figure.Figure at 0x11102bf60>"
      ]
     },
     "metadata": {},
     "output_type": "display_data"
    }
   ],
   "source": [
    "\n",
    "from time import time\n",
    "import numpy as np\n",
    "import matplotlib.pyplot as plt\n",
    "\n",
    "from sklearn import metrics\n",
    "from sklearn.cluster import KMeans\n",
    "from sklearn.datasets import load_digits\n",
    "from sklearn.decomposition import PCA\n",
    "from sklearn.preprocessing import scale\n",
    "\n",
    "np.random.seed(42)\n",
    "\n",
    "digits = load_digits()\n",
    "data = scale(digits.data)\n",
    "\n",
    "n_samples, n_features = data.shape\n",
    "n_digits = len(np.unique(digits.target))\n",
    "labels = digits.target\n",
    "\n",
    "sample_size = 300\n",
    "\n",
    "print(\"n_digits: %d, \\t n_samples %d, \\t n_features %d\"\n",
    "      % (n_digits, n_samples, n_features))\n",
    "\n",
    "\n",
    "print(82 * '_')\n",
    "print('init\\t\\ttime\\tinertia\\thomo\\tcompl\\tv-meas\\tARI\\tAMI\\tsilhouette')\n",
    "\n",
    "\n",
    "def bench_k_means(estimator, name, data):\n",
    "    t0 = time()\n",
    "    estimator.fit(data)\n",
    "    print('%-9s\\t%.2fs\\t%i\\t%.3f\\t%.3f\\t%.3f\\t%.3f\\t%.3f\\t%.3f'\n",
    "          % (name, (time() - t0), estimator.inertia_,\n",
    "             metrics.homogeneity_score(labels, estimator.labels_),\n",
    "             metrics.completeness_score(labels, estimator.labels_),\n",
    "             metrics.v_measure_score(labels, estimator.labels_),\n",
    "             metrics.adjusted_rand_score(labels, estimator.labels_),\n",
    "             metrics.adjusted_mutual_info_score(labels,  estimator.labels_),\n",
    "             metrics.silhouette_score(data, estimator.labels_,\n",
    "                                      metric='euclidean',\n",
    "                                      sample_size=sample_size)))\n",
    "\n",
    "bench_k_means(KMeans(init='k-means++', n_clusters=n_digits, n_init=10),\n",
    "              name=\"k-means++\", data=data)\n",
    "\n",
    "bench_k_means(KMeans(init='random', n_clusters=n_digits, n_init=10),\n",
    "              name=\"random\", data=data)\n",
    "\n",
    "# in this case the seeding of the centers is deterministic, hence we run the\n",
    "# kmeans algorithm only once with n_init=1\n",
    "pca = PCA(n_components=n_digits).fit(data)\n",
    "bench_k_means(KMeans(init=pca.components_, n_clusters=n_digits, n_init=1),\n",
    "              name=\"PCA-based\",\n",
    "              data=data)\n",
    "print(82 * '_')\n",
    "\n",
    "# #############################################################################\n",
    "# Visualize the results on PCA-reduced data\n",
    "\n",
    "reduced_data = PCA(n_components=2).fit_transform(data)\n",
    "kmeans = KMeans(init='k-means++', n_clusters=n_digits, n_init=10)\n",
    "kmeans.fit(reduced_data)\n",
    "\n",
    "# Step size of the mesh. Decrease to increase the quality of the VQ.\n",
    "h = .02     # point in the mesh [x_min, x_max]x[y_min, y_max].\n",
    "\n",
    "# Plot the decision boundary. For that, we will assign a color to each\n",
    "x_min, x_max = reduced_data[:, 0].min() - 1, reduced_data[:, 0].max() + 1\n",
    "y_min, y_max = reduced_data[:, 1].min() - 1, reduced_data[:, 1].max() + 1\n",
    "xx, yy = np.meshgrid(np.arange(x_min, x_max, h), np.arange(y_min, y_max, h))\n",
    "\n",
    "# Obtain labels for each point in mesh. Use last trained model.\n",
    "Z = kmeans.predict(np.c_[xx.ravel(), yy.ravel()])\n",
    "\n",
    "# Put the result into a color plot\n",
    "Z = Z.reshape(xx.shape)\n",
    "plt.figure(1)\n",
    "plt.clf()\n",
    "plt.imshow(Z, interpolation='nearest',\n",
    "           extent=(xx.min(), xx.max(), yy.min(), yy.max()),\n",
    "           cmap=plt.cm.Paired,\n",
    "           aspect='auto', origin='lower')\n",
    "\n",
    "plt.plot(reduced_data[:, 0], reduced_data[:, 1], 'k.', markersize=2)\n",
    "# Plot the centroids as a white X\n",
    "centroids = kmeans.cluster_centers_\n",
    "plt.scatter(centroids[:, 0], centroids[:, 1],\n",
    "            marker='x', s=169, linewidths=3,\n",
    "            color='w', zorder=10)\n",
    "plt.title('K-means clustering on the digits dataset (PCA-reduced data)\\n'\n",
    "          'Centroids are marked with white cross')\n",
    "plt.xlim(x_min, x_max)\n",
    "plt.ylim(y_min, y_max)\n",
    "plt.xticks(())\n",
    "plt.yticks(())\n",
    "plt.show()"
   ]
  },
  {
   "cell_type": "code",
   "execution_count": 20,
   "metadata": {},
   "outputs": [],
   "source": [
    "%matplotlib inline\n",
    "from copy import deepcopy\n",
    "import numpy as np\n",
    "import pandas as pd\n",
    "from matplotlib import pyplot as plt\n",
    "plt.rcParams['figure.figsize'] = (16, 9)\n",
    "plt.style.use('ggplot')"
   ]
  },
  {
   "cell_type": "code",
   "execution_count": 21,
   "metadata": {},
   "outputs": [
    {
     "name": "stdout",
     "output_type": "stream",
     "text": [
      "(111, 29)\n"
     ]
    },
    {
     "data": {
      "text/html": [
       "<div>\n",
       "<style scoped>\n",
       "    .dataframe tbody tr th:only-of-type {\n",
       "        vertical-align: middle;\n",
       "    }\n",
       "\n",
       "    .dataframe tbody tr th {\n",
       "        vertical-align: top;\n",
       "    }\n",
       "\n",
       "    .dataframe thead th {\n",
       "        text-align: right;\n",
       "    }\n",
       "</style>\n",
       "<table border=\"1\" class=\"dataframe\">\n",
       "  <thead>\n",
       "    <tr style=\"text-align: right;\">\n",
       "      <th></th>\n",
       "      <th>age</th>\n",
       "      <th>sexc</th>\n",
       "      <th>sizec</th>\n",
       "      <th>salaryc</th>\n",
       "      <th>breakfastc</th>\n",
       "      <th>lunchc</th>\n",
       "      <th>dinnerc</th>\n",
       "      <th>latec</th>\n",
       "      <th>tastec</th>\n",
       "      <th>pricec</th>\n",
       "      <th>...</th>\n",
       "      <th>thaic</th>\n",
       "      <th>dietc</th>\n",
       "      <th>shabuc</th>\n",
       "      <th>grillc</th>\n",
       "      <th>steakc</th>\n",
       "      <th>fastfoodc</th>\n",
       "      <th>cakec</th>\n",
       "      <th>dessertc</th>\n",
       "      <th>coffeec</th>\n",
       "      <th>juicec</th>\n",
       "    </tr>\n",
       "  </thead>\n",
       "  <tbody>\n",
       "    <tr>\n",
       "      <th>0</th>\n",
       "      <td>21</td>\n",
       "      <td>0.0</td>\n",
       "      <td>1.0</td>\n",
       "      <td>0.0</td>\n",
       "      <td>0.0</td>\n",
       "      <td>1.0</td>\n",
       "      <td>1.0</td>\n",
       "      <td>0.0</td>\n",
       "      <td>1.0</td>\n",
       "      <td>1.0</td>\n",
       "      <td>...</td>\n",
       "      <td>0.0</td>\n",
       "      <td>1.0</td>\n",
       "      <td>0.0</td>\n",
       "      <td>0.0</td>\n",
       "      <td>1.0</td>\n",
       "      <td>1.0</td>\n",
       "      <td>1.0</td>\n",
       "      <td>1.0</td>\n",
       "      <td>0.0</td>\n",
       "      <td>1.0</td>\n",
       "    </tr>\n",
       "    <tr>\n",
       "      <th>1</th>\n",
       "      <td>20</td>\n",
       "      <td>1.0</td>\n",
       "      <td>0.0</td>\n",
       "      <td>0.0</td>\n",
       "      <td>0.0</td>\n",
       "      <td>1.0</td>\n",
       "      <td>1.0</td>\n",
       "      <td>1.0</td>\n",
       "      <td>1.0</td>\n",
       "      <td>0.0</td>\n",
       "      <td>...</td>\n",
       "      <td>0.0</td>\n",
       "      <td>0.0</td>\n",
       "      <td>0.0</td>\n",
       "      <td>0.0</td>\n",
       "      <td>0.0</td>\n",
       "      <td>1.0</td>\n",
       "      <td>1.0</td>\n",
       "      <td>0.0</td>\n",
       "      <td>0.0</td>\n",
       "      <td>0.0</td>\n",
       "    </tr>\n",
       "    <tr>\n",
       "      <th>2</th>\n",
       "      <td>22</td>\n",
       "      <td>1.0</td>\n",
       "      <td>3.0</td>\n",
       "      <td>0.0</td>\n",
       "      <td>0.0</td>\n",
       "      <td>1.0</td>\n",
       "      <td>1.0</td>\n",
       "      <td>0.0</td>\n",
       "      <td>1.0</td>\n",
       "      <td>1.0</td>\n",
       "      <td>...</td>\n",
       "      <td>1.0</td>\n",
       "      <td>0.0</td>\n",
       "      <td>0.0</td>\n",
       "      <td>0.0</td>\n",
       "      <td>1.0</td>\n",
       "      <td>1.0</td>\n",
       "      <td>0.0</td>\n",
       "      <td>1.0</td>\n",
       "      <td>0.0</td>\n",
       "      <td>1.0</td>\n",
       "    </tr>\n",
       "    <tr>\n",
       "      <th>3</th>\n",
       "      <td>19</td>\n",
       "      <td>0.0</td>\n",
       "      <td>2.0</td>\n",
       "      <td>0.0</td>\n",
       "      <td>1.0</td>\n",
       "      <td>1.0</td>\n",
       "      <td>1.0</td>\n",
       "      <td>0.0</td>\n",
       "      <td>1.0</td>\n",
       "      <td>1.0</td>\n",
       "      <td>...</td>\n",
       "      <td>1.0</td>\n",
       "      <td>0.0</td>\n",
       "      <td>0.0</td>\n",
       "      <td>0.0</td>\n",
       "      <td>0.0</td>\n",
       "      <td>0.0</td>\n",
       "      <td>0.0</td>\n",
       "      <td>1.0</td>\n",
       "      <td>1.0</td>\n",
       "      <td>1.0</td>\n",
       "    </tr>\n",
       "    <tr>\n",
       "      <th>4</th>\n",
       "      <td>18</td>\n",
       "      <td>1.0</td>\n",
       "      <td>3.0</td>\n",
       "      <td>0.0</td>\n",
       "      <td>1.0</td>\n",
       "      <td>1.0</td>\n",
       "      <td>1.0</td>\n",
       "      <td>1.0</td>\n",
       "      <td>1.0</td>\n",
       "      <td>1.0</td>\n",
       "      <td>...</td>\n",
       "      <td>1.0</td>\n",
       "      <td>1.0</td>\n",
       "      <td>0.0</td>\n",
       "      <td>0.0</td>\n",
       "      <td>1.0</td>\n",
       "      <td>1.0</td>\n",
       "      <td>1.0</td>\n",
       "      <td>1.0</td>\n",
       "      <td>0.0</td>\n",
       "      <td>1.0</td>\n",
       "    </tr>\n",
       "  </tbody>\n",
       "</table>\n",
       "<p>5 rows × 29 columns</p>\n",
       "</div>"
      ],
      "text/plain": [
       "   age  sexc  sizec  salaryc  breakfastc  lunchc  dinnerc  latec  tastec  \\\n",
       "0   21   0.0    1.0      0.0         0.0     1.0      1.0    0.0     1.0   \n",
       "1   20   1.0    0.0      0.0         0.0     1.0      1.0    1.0     1.0   \n",
       "2   22   1.0    3.0      0.0         0.0     1.0      1.0    0.0     1.0   \n",
       "3   19   0.0    2.0      0.0         1.0     1.0      1.0    0.0     1.0   \n",
       "4   18   1.0    3.0      0.0         1.0     1.0      1.0    1.0     1.0   \n",
       "\n",
       "   pricec   ...    thaic  dietc  shabuc  grillc  steakc  fastfoodc  cakec  \\\n",
       "0     1.0   ...      0.0    1.0     0.0     0.0     1.0        1.0    1.0   \n",
       "1     0.0   ...      0.0    0.0     0.0     0.0     0.0        1.0    1.0   \n",
       "2     1.0   ...      1.0    0.0     0.0     0.0     1.0        1.0    0.0   \n",
       "3     1.0   ...      1.0    0.0     0.0     0.0     0.0        0.0    0.0   \n",
       "4     1.0   ...      1.0    1.0     0.0     0.0     1.0        1.0    1.0   \n",
       "\n",
       "   dessertc  coffeec  juicec  \n",
       "0       1.0      0.0     1.0  \n",
       "1       0.0      0.0     0.0  \n",
       "2       1.0      0.0     1.0  \n",
       "3       1.0      1.0     1.0  \n",
       "4       1.0      0.0     1.0  \n",
       "\n",
       "[5 rows x 29 columns]"
      ]
     },
     "execution_count": 21,
     "metadata": {},
     "output_type": "execute_result"
    }
   ],
   "source": [
    "data = df2\n",
    "print(data.shape)\n",
    "data.head()"
   ]
  },
  {
   "cell_type": "code",
   "execution_count": 22,
   "metadata": {},
   "outputs": [],
   "source": [
    "# f1 = data['age'].values\n",
    "# f2 = data['sizec'].values\n",
    "# X = np.array(list(zip(f1, f2)))\n",
    "# plt.scatter(f1, f2, c='black', s=7)"
   ]
  },
  {
   "cell_type": "code",
   "execution_count": 23,
   "metadata": {},
   "outputs": [
    {
     "name": "stdout",
     "output_type": "stream",
     "text": [
      "   age  sexc  sizec  salaryc  breakfastc  lunchc  dinnerc  latec  tastec  \\\n",
      "0   21   0.0    1.0      0.0         0.0     1.0      1.0    0.0     1.0   \n",
      "\n",
      "   pricec   ...    thaic  dietc  shabuc  grillc  steakc  fastfoodc  cakec  \\\n",
      "0     1.0   ...      0.0    1.0     0.0     0.0     1.0        1.0    1.0   \n",
      "\n",
      "   dessertc  coffeec  juicec  \n",
      "0       1.0      0.0     1.0  \n",
      "\n",
      "[1 rows x 29 columns]\n",
      "StandardScaler(copy=True, with_mean=True, with_std=True)\n"
     ]
    }
   ],
   "source": [
    "from sklearn.preprocessing import StandardScaler\n",
    "print(df2.iloc[[0]])\n",
    "data = df2.iloc[[0]]\n",
    "scaler = StandardScaler()\n",
    "print(scaler.fit(data))"
   ]
  },
  {
   "cell_type": "code",
   "execution_count": 24,
   "metadata": {},
   "outputs": [
    {
     "name": "stdout",
     "output_type": "stream",
     "text": [
      "[21.  0.  1.  0.  0.  1.  1.  0.  1.  1.  1.  1.  1.  0.  1.  1.  1.  1.\n",
      "  0.  0.  1.  0.  0.  1.  1.  1.  1.  0.  1.]\n"
     ]
    }
   ],
   "source": [
    "print(scaler.mean_)"
   ]
  },
  {
   "cell_type": "code",
   "execution_count": 25,
   "metadata": {},
   "outputs": [
    {
     "name": "stdout",
     "output_type": "stream",
     "text": [
      "[[0. 0. 0. 0. 0. 0. 0. 0. 0. 0. 0. 0. 0. 0. 0. 0. 0. 0. 0. 0. 0. 0. 0. 0.\n",
      "  0. 0. 0. 0. 0.]]\n"
     ]
    }
   ],
   "source": [
    "print(scaler.transform(data))"
   ]
  },
  {
   "cell_type": "code",
   "execution_count": 26,
   "metadata": {},
   "outputs": [],
   "source": [
    "%matplotlib inline\n",
    "from copy import deepcopy\n",
    "import numpy as np\n",
    "import pandas as pd\n",
    "from matplotlib import pyplot as plt\n",
    "plt.rcParams['figure.figsize'] = (16, 9)\n",
    "plt.style.use('ggplot')"
   ]
  },
  {
   "cell_type": "code",
   "execution_count": 27,
   "metadata": {},
   "outputs": [],
   "source": [
    "# df=pd.read_csv('inf.csv')\n",
    "# data=df.drop(['id','birthdate','created_at','user_id'],1)"
   ]
  },
  {
   "cell_type": "code",
   "execution_count": 28,
   "metadata": {},
   "outputs": [
    {
     "data": {
      "text/html": [
       "<div>\n",
       "<style scoped>\n",
       "    .dataframe tbody tr th:only-of-type {\n",
       "        vertical-align: middle;\n",
       "    }\n",
       "\n",
       "    .dataframe tbody tr th {\n",
       "        vertical-align: top;\n",
       "    }\n",
       "\n",
       "    .dataframe thead th {\n",
       "        text-align: right;\n",
       "    }\n",
       "</style>\n",
       "<table border=\"1\" class=\"dataframe\">\n",
       "  <thead>\n",
       "    <tr style=\"text-align: right;\">\n",
       "      <th></th>\n",
       "      <th>age</th>\n",
       "      <th>sexc</th>\n",
       "      <th>sizec</th>\n",
       "      <th>salaryc</th>\n",
       "      <th>breakfastc</th>\n",
       "      <th>lunchc</th>\n",
       "      <th>dinnerc</th>\n",
       "      <th>latec</th>\n",
       "      <th>tastec</th>\n",
       "      <th>pricec</th>\n",
       "      <th>...</th>\n",
       "      <th>thaic</th>\n",
       "      <th>dietc</th>\n",
       "      <th>shabuc</th>\n",
       "      <th>grillc</th>\n",
       "      <th>steakc</th>\n",
       "      <th>fastfoodc</th>\n",
       "      <th>cakec</th>\n",
       "      <th>dessertc</th>\n",
       "      <th>coffeec</th>\n",
       "      <th>juicec</th>\n",
       "    </tr>\n",
       "  </thead>\n",
       "  <tbody>\n",
       "    <tr>\n",
       "      <th>0</th>\n",
       "      <td>21</td>\n",
       "      <td>0.0</td>\n",
       "      <td>1.0</td>\n",
       "      <td>0.0</td>\n",
       "      <td>0.0</td>\n",
       "      <td>1.0</td>\n",
       "      <td>1.0</td>\n",
       "      <td>0.0</td>\n",
       "      <td>1.0</td>\n",
       "      <td>1.0</td>\n",
       "      <td>...</td>\n",
       "      <td>0.0</td>\n",
       "      <td>1.0</td>\n",
       "      <td>0.0</td>\n",
       "      <td>0.0</td>\n",
       "      <td>1.0</td>\n",
       "      <td>1.0</td>\n",
       "      <td>1.0</td>\n",
       "      <td>1.0</td>\n",
       "      <td>0.0</td>\n",
       "      <td>1.0</td>\n",
       "    </tr>\n",
       "    <tr>\n",
       "      <th>1</th>\n",
       "      <td>20</td>\n",
       "      <td>1.0</td>\n",
       "      <td>0.0</td>\n",
       "      <td>0.0</td>\n",
       "      <td>0.0</td>\n",
       "      <td>1.0</td>\n",
       "      <td>1.0</td>\n",
       "      <td>1.0</td>\n",
       "      <td>1.0</td>\n",
       "      <td>0.0</td>\n",
       "      <td>...</td>\n",
       "      <td>0.0</td>\n",
       "      <td>0.0</td>\n",
       "      <td>0.0</td>\n",
       "      <td>0.0</td>\n",
       "      <td>0.0</td>\n",
       "      <td>1.0</td>\n",
       "      <td>1.0</td>\n",
       "      <td>0.0</td>\n",
       "      <td>0.0</td>\n",
       "      <td>0.0</td>\n",
       "    </tr>\n",
       "    <tr>\n",
       "      <th>2</th>\n",
       "      <td>22</td>\n",
       "      <td>1.0</td>\n",
       "      <td>3.0</td>\n",
       "      <td>0.0</td>\n",
       "      <td>0.0</td>\n",
       "      <td>1.0</td>\n",
       "      <td>1.0</td>\n",
       "      <td>0.0</td>\n",
       "      <td>1.0</td>\n",
       "      <td>1.0</td>\n",
       "      <td>...</td>\n",
       "      <td>1.0</td>\n",
       "      <td>0.0</td>\n",
       "      <td>0.0</td>\n",
       "      <td>0.0</td>\n",
       "      <td>1.0</td>\n",
       "      <td>1.0</td>\n",
       "      <td>0.0</td>\n",
       "      <td>1.0</td>\n",
       "      <td>0.0</td>\n",
       "      <td>1.0</td>\n",
       "    </tr>\n",
       "    <tr>\n",
       "      <th>3</th>\n",
       "      <td>19</td>\n",
       "      <td>0.0</td>\n",
       "      <td>2.0</td>\n",
       "      <td>0.0</td>\n",
       "      <td>1.0</td>\n",
       "      <td>1.0</td>\n",
       "      <td>1.0</td>\n",
       "      <td>0.0</td>\n",
       "      <td>1.0</td>\n",
       "      <td>1.0</td>\n",
       "      <td>...</td>\n",
       "      <td>1.0</td>\n",
       "      <td>0.0</td>\n",
       "      <td>0.0</td>\n",
       "      <td>0.0</td>\n",
       "      <td>0.0</td>\n",
       "      <td>0.0</td>\n",
       "      <td>0.0</td>\n",
       "      <td>1.0</td>\n",
       "      <td>1.0</td>\n",
       "      <td>1.0</td>\n",
       "    </tr>\n",
       "    <tr>\n",
       "      <th>4</th>\n",
       "      <td>18</td>\n",
       "      <td>1.0</td>\n",
       "      <td>3.0</td>\n",
       "      <td>0.0</td>\n",
       "      <td>1.0</td>\n",
       "      <td>1.0</td>\n",
       "      <td>1.0</td>\n",
       "      <td>1.0</td>\n",
       "      <td>1.0</td>\n",
       "      <td>1.0</td>\n",
       "      <td>...</td>\n",
       "      <td>1.0</td>\n",
       "      <td>1.0</td>\n",
       "      <td>0.0</td>\n",
       "      <td>0.0</td>\n",
       "      <td>1.0</td>\n",
       "      <td>1.0</td>\n",
       "      <td>1.0</td>\n",
       "      <td>1.0</td>\n",
       "      <td>0.0</td>\n",
       "      <td>1.0</td>\n",
       "    </tr>\n",
       "  </tbody>\n",
       "</table>\n",
       "<p>5 rows × 29 columns</p>\n",
       "</div>"
      ],
      "text/plain": [
       "   age  sexc  sizec  salaryc  breakfastc  lunchc  dinnerc  latec  tastec  \\\n",
       "0   21   0.0    1.0      0.0         0.0     1.0      1.0    0.0     1.0   \n",
       "1   20   1.0    0.0      0.0         0.0     1.0      1.0    1.0     1.0   \n",
       "2   22   1.0    3.0      0.0         0.0     1.0      1.0    0.0     1.0   \n",
       "3   19   0.0    2.0      0.0         1.0     1.0      1.0    0.0     1.0   \n",
       "4   18   1.0    3.0      0.0         1.0     1.0      1.0    1.0     1.0   \n",
       "\n",
       "   pricec   ...    thaic  dietc  shabuc  grillc  steakc  fastfoodc  cakec  \\\n",
       "0     1.0   ...      0.0    1.0     0.0     0.0     1.0        1.0    1.0   \n",
       "1     0.0   ...      0.0    0.0     0.0     0.0     0.0        1.0    1.0   \n",
       "2     1.0   ...      1.0    0.0     0.0     0.0     1.0        1.0    0.0   \n",
       "3     1.0   ...      1.0    0.0     0.0     0.0     0.0        0.0    0.0   \n",
       "4     1.0   ...      1.0    1.0     0.0     0.0     1.0        1.0    1.0   \n",
       "\n",
       "   dessertc  coffeec  juicec  \n",
       "0       1.0      0.0     1.0  \n",
       "1       0.0      0.0     0.0  \n",
       "2       1.0      0.0     1.0  \n",
       "3       1.0      1.0     1.0  \n",
       "4       1.0      0.0     1.0  \n",
       "\n",
       "[5 rows x 29 columns]"
      ]
     },
     "execution_count": 28,
     "metadata": {},
     "output_type": "execute_result"
    }
   ],
   "source": [
    "# # data = pd.read_csv('xclara.csv')\n",
    "# print(data.shape)\n",
    "df2.head()\n"
   ]
  },
  {
   "cell_type": "code",
   "execution_count": 29,
   "metadata": {},
   "outputs": [],
   "source": [
    "# f1 = df2['salaryc'].values\n",
    "# f2 = df2['age'].values\n",
    "f3 = df2['sexc'].values\n",
    "f4 = df2['sizec'].values\n",
    "f5 = df2['breakfastc'].values\n",
    "f6 = df2['lunchc'].values\n",
    "f7 = df2['dinnerc'].values\n",
    "f8 = df2['latec'].values\n",
    "X = np.array(list(zip(f3,f4,f5,f6,f7,f8)))\n",
    "# X = np.array(list(zip(f1, f2,f3,f4,f5,f6,f7,f8)))\n",
    "\n",
    "data = df2.fillna(value=0, axis=1)\n"
   ]
  },
  {
   "cell_type": "code",
   "execution_count": 30,
   "metadata": {},
   "outputs": [],
   "source": [
    "# plt.scatter(f1, f2, c='black', s=7)\n",
    "X = data.values\n",
    "# Data Normalization\n",
    "from sklearn.preprocessing import StandardScaler\n",
    "X_std = StandardScaler().fit_transform(X)"
   ]
  },
  {
   "cell_type": "code",
   "execution_count": 31,
   "metadata": {},
   "outputs": [
    {
     "name": "stdout",
     "output_type": "stream",
     "text": [
      "[[ 0.12116404 -1.90394328 -0.69661429 ...  0.92195445 -0.55306632\n",
      "   1.00904996]\n",
      " [-0.03342456  0.52522573 -1.78568733 ... -1.08465229 -0.55306632\n",
      "  -0.99103121]\n",
      " [ 0.27575264  0.52522573  1.4815318  ...  0.92195445 -0.55306632\n",
      "   1.00904996]\n",
      " ...\n",
      " [-0.03342456  0.52522573 -1.78568733 ... -1.08465229 -0.55306632\n",
      "  -0.99103121]\n",
      " [-0.03342456  0.52522573 -0.69661429 ...  0.92195445 -0.55306632\n",
      "  -0.99103121]\n",
      " [-0.18801317  0.52522573 -1.78568733 ... -1.08465229 -0.55306632\n",
      "  -0.99103121]]\n"
     ]
    }
   ],
   "source": [
    "from sklearn.preprocessing import StandardScaler\n",
    "X_std = StandardScaler().fit_transform(X)\n",
    "print(X_std)"
   ]
  },
  {
   "cell_type": "code",
   "execution_count": 32,
   "metadata": {},
   "outputs": [],
   "source": [
    "# # df2.plot(y= 'imdb_score', x ='duration',kind='hexbin',gridsize=35, sharex=False, colormap='cubehelix', title='Hexbin of Imdb_Score and Duration',figsize=(12,8))\n",
    "# # df2.plot(y= 'imdb_score', x ='gross',kind='hexbin',gridsize=45, sharex=False, colormap='cubehelix', title='Hexbin of Imdb_Score and Gross',figsize=(12,8))\n",
    "# # Set up the matplotlib figure\n",
    "# f, ax = plt.subplots(figsize=(12, 10))\n",
    "# plt.title('Pearson Correlation of Movie Features')\n",
    "# # Draw the heatmap using seaborn\n",
    "# sns.heatmap(df2.astype(float).corr(),linewidths=0.25,vmax=1.0, square=True, cmap=\"YlGnBu\", linecolor='black', annot=True)"
   ]
  },
  {
   "cell_type": "code",
   "execution_count": 33,
   "metadata": {},
   "outputs": [],
   "source": [
    "mean_vec = np.mean(X_std, axis=0)\n",
    "cov_mat = np.cov(X_std.T)\n",
    "eig_vals, eig_vecs = np.linalg.eig(cov_mat)"
   ]
  },
  {
   "cell_type": "code",
   "execution_count": 34,
   "metadata": {},
   "outputs": [],
   "source": [
    "\n",
    "# Create a list of (eigenvalue, eigenvector) tuples\n",
    "eig_pairs = [ (np.abs(eig_vals[i]),eig_vecs[:,i]) for i in range(len(eig_vals))]\n",
    "\n",
    "# Sort from high to low\n",
    "eig_pairs.sort(key = lambda x: x[0], reverse= True)\n",
    "\n",
    "# Calculation of Explained Variance from the eigenvalues\n",
    "tot = sum(eig_vals)\n",
    "var_exp = [(i/tot)*100 for i in sorted(eig_vals, reverse=True)] # Individual explained variance\n",
    "cum_var_exp = np.cumsum(var_exp) # Cumulative explained variance"
   ]
  },
  {
   "cell_type": "code",
   "execution_count": 35,
   "metadata": {},
   "outputs": [],
   "source": [
    "# #PLOT OUT THE EXPLAINED VARIANCES SUPERIMPOSED \n",
    "# plt.figure(figsize=(10, 5))\n",
    "# plt.bar(range(16), var_exp, alpha=0.3333, align='center', label='individual explained variance', color = 'g')\n",
    "# plt.step(range(16), cum_var_exp, where='mid',label='cumulative explained variance')\n",
    "# plt.ylabel('Explained variance ratio')\n",
    "# plt.xlabel('Principal components')\n",
    "# plt.legend(loc='best')\n",
    "# plt.show()"
   ]
  },
  {
   "cell_type": "code",
   "execution_count": 36,
   "metadata": {},
   "outputs": [],
   "source": [
    "# pca = PCA(n_components=9)\n",
    "# x_9d = pca.fit_transform(X_std)"
   ]
  },
  {
   "cell_type": "code",
   "execution_count": 37,
   "metadata": {},
   "outputs": [],
   "source": [
    "pca = PCA().fit(X_std) \n",
    "# plt.plot(np.cumsum(pca.explained_variance_ratio_)) \n",
    "# plt.show() "
   ]
  },
  {
   "cell_type": "code",
   "execution_count": 38,
   "metadata": {},
   "outputs": [
    {
     "data": {
      "image/png": "[encoded data removed]",
      "text/plain": [
       "<matplotlib.figure.Figure at 0x1110683c8>"
      ]
     },
     "metadata": {},
     "output_type": "display_data"
    }
   ],
   "source": [
    "# pca = PCA(n_components=9)\n",
    "x_9d = pca.fit_transform(X_std)\n",
    "plt.figure(figsize = (9,7))\n",
    "plt.scatter(x_9d[:,0],x_9d[:,1], c='goldenrod',alpha=0.5)\n",
    "plt.ylim(-10,30)\n",
    "plt.show()"
   ]
  },
  {
   "cell_type": "code",
   "execution_count": 39,
   "metadata": {},
   "outputs": [
    {
     "data": {
      "image/png": "[encoded data removed]",
      "text/plain": [
       "<matplotlib.figure.Figure at 0x110fe4d68>"
      ]
     },
     "metadata": {},
     "output_type": "display_data"
    }
   ],
   "source": [
    "# Set a 3 KMeans clustering\n",
    "kmeans = KMeans(n_clusters=3)\n",
    "# Compute cluster centers and predict cluster indices\n",
    "X_clustered = kmeans.fit_predict(x_9d)\n",
    "\n",
    "# Define our own color map\n",
    "LABEL_COLOR_MAP = {0 : 'r',1 : 'g',2 : 'b'}\n",
    "label_color = [LABEL_COLOR_MAP[l] for l in X_clustered]\n",
    "\n",
    "# Plot the scatter digram\n",
    "plt.figure(figsize = (7,7))\n",
    "plt.scatter(x_9d[:,0],x_9d[:,2], c= label_color, alpha=0.5) \n",
    "plt.show()"
   ]
  },
  {
   "cell_type": "code",
   "execution_count": null,
   "metadata": {},
   "outputs": [],
   "source": []
  },
  {
   "cell_type": "code",
   "execution_count": 40,
   "metadata": {},
   "outputs": [],
   "source": [
    "# Create a temp dataframe from our PCA projection data \"x_9d\"\n",
    "df = pd.DataFrame(x_9d)\n",
    "df = df[[0,1,2]] # only want to visualise relationships between first 3 projections\n",
    "df['X_cluster'] = X_clustered"
   ]
  },
  {
   "cell_type": "code",
   "execution_count": 41,
   "metadata": {},
   "outputs": [],
   "source": [
    "# import numpy as np # linear algebra\n",
    "# import pandas as pd # data processing, CSV file I/O (e.g. pd.read_csv)\n",
    "# from sklearn.decomposition import PCA # Principal Component Analysis module\n",
    "# from sklearn.cluster import KMeans # KMeans clustering \n",
    "# import matplotlib.pyplot as plt # Python defacto plotting library\n",
    "# import seaborn as sns # More snazzy plotting library\n",
    "# %matplotlib inline \n",
    "# # Call Seaborn's pairplot to visualize our KMeans clustering on the PCA projected data\n",
    "# sns.pairplot(df, hue='X_cluster', palette= 'Dark2', diag_kind='kde',size=1.85)"
   ]
  },
  {
   "cell_type": "code",
   "execution_count": 42,
   "metadata": {},
   "outputs": [],
   "source": [
    "# Euclidean Distance Caculator\n",
    "def dist(a, b, ax=1):\n",
    "    return np.linalg.norm(a - b, axis=ax)"
   ]
  },
  {
   "cell_type": "code",
   "execution_count": 43,
   "metadata": {},
   "outputs": [],
   "source": [
    "# import numpy as np\n",
    "# from sklearn.decomposition import PCA\n",
    "# from sklearn.cluster import KMeans\n",
    "\n",
    "# search_terms = ['computer','usb port', 'phone adaptor']\n",
    "# clicks = [3,2,1]\n",
    "# bounce = [0,0,2]\n",
    "# conversion = [4,1,0]\n",
    "\n",
    "# X = np.array([clicks, bounce, conversion]).T\n",
    "# y = np.array(search_terms)\n",
    "\n",
    "# num_clusters = 3\n",
    "\n",
    "# X_pca = PCA(n_components=2, whiten=True).fit_transform(X)\n",
    "\n",
    "# km = KMeans(n_clusters=num_clusters, init='k-means++',n_init=10, verbose=1)\n",
    "# km.fit(X_pca)"
   ]
  },
  {
   "cell_type": "code",
   "execution_count": 44,
   "metadata": {},
   "outputs": [],
   "source": [
    "# df2[\"0\"] = df2.cluster == 0"
   ]
  },
  {
   "cell_type": "code",
   "execution_count": 45,
   "metadata": {},
   "outputs": [],
   "source": [
    "# df2.groupby(\"0\").sizec.value_counts()"
   ]
  },
  {
   "cell_type": "markdown",
   "metadata": {},
   "source": [
    "# Clustering Two Field\n"
   ]
  },
  {
   "cell_type": "code",
   "execution_count": 46,
   "metadata": {},
   "outputs": [],
   "source": [
    "f5 = df2['salaryc'].values\n",
    "f4 = df2['age'].values\n",
    "# f3 = df2['sexc'].values\n",
    "# f4 = df2['sizec'].values\n",
    "# f5 = df2['breakfastc'].values\n",
    "# f6 = df2['lunchc'].values\n",
    "# f7 = df2['dinnerc'].values\n",
    "# f8 = df2['latec'].values\n",
    "X = np.array(list(zip(f4,f5)))\n",
    "# X = np.array(list(zip(f1, f2,f3,f4,f5,f6,f7,f8)))\n",
    "\n",
    "data = df2.fillna(value=0, axis=1)\n",
    "\n",
    "# plt.scatter(f1, f2, c='black', s=7)\n",
    "X = data.values\n",
    "# Data Normalization\n",
    "from sklearn.preprocessing import StandardScaler\n",
    "X_std = StandardScaler().fit_transform(X)"
   ]
  },
  {
   "cell_type": "code",
   "execution_count": 47,
   "metadata": {},
   "outputs": [],
   "source": [
    "# X_std"
   ]
  },
  {
   "cell_type": "code",
   "execution_count": 48,
   "metadata": {},
   "outputs": [],
   "source": [
    "mean_vec = np.mean(X_std, axis=0)\n",
    "cov_mat = np.cov(X_std.T)\n",
    "eig_vals, eig_vecs = np.linalg.eig(cov_mat)\n",
    "# Create a list of (eigenvalue, eigenvector) tuples\n",
    "eig_pairs = [ (np.abs(eig_vals[i]),eig_vecs[:,i]) for i in range(len(eig_vals))]\n",
    "\n",
    "# Sort from high to low\n",
    "eig_pairs.sort(key = lambda x: x[0], reverse= True)\n",
    "\n",
    "# Calculation of Explained Variance from the eigenvalues\n",
    "tot = sum(eig_vals)\n",
    "var_exp = [(i/tot)*100 for i in sorted(eig_vals, reverse=True)] # Individual explained variance\n",
    "cum_var_exp = np.cumsum(var_exp) # Cumulative explained variance"
   ]
  },
  {
   "cell_type": "code",
   "execution_count": 49,
   "metadata": {},
   "outputs": [],
   "source": [
    "pca = PCA(n_components=9)\n",
    "x_9d = pca.fit_transform(X_std)"
   ]
  },
  {
   "cell_type": "code",
   "execution_count": 50,
   "metadata": {},
   "outputs": [
    {
     "data": {
      "image/png": "[encoded data removed]",
      "text/plain": [
       "<matplotlib.figure.Figure at 0x114a91048>"
      ]
     },
     "metadata": {},
     "output_type": "display_data"
    }
   ],
   "source": [
    "plt.figure(figsize = (7,7))\n",
    "plt.scatter(x_9d[:,0],x_9d[:,1], c='goldenrod',alpha=0.5)\n",
    "plt.ylim(-10,30)\n",
    "plt.show()"
   ]
  },
  {
   "cell_type": "code",
   "execution_count": 51,
   "metadata": {},
   "outputs": [],
   "source": [
    "# x_9d"
   ]
  },
  {
   "cell_type": "code",
   "execution_count": 52,
   "metadata": {},
   "outputs": [
    {
     "data": {
      "image/png": "[encoded data removed]",
      "text/plain": [
       "<matplotlib.figure.Figure at 0x11102b2b0>"
      ]
     },
     "metadata": {},
     "output_type": "display_data"
    }
   ],
   "source": [
    "# Set a 3 KMeans clustering\n",
    "# kmeans = KMeans(n_clusters=2)\n",
    "kmeans = KMeans(n_clusters=2).fit(X)\n",
    "# Compute cluster centers and predict cluster indices\n",
    "X_clustered = kmeans.fit_predict(x_9d)\n",
    "\n",
    "# Define our own color map\n",
    "LABEL_COLOR_MAP = {0 : 'r',1 : 'g',2 : 'b',3 : 'y'}\n",
    "label_color = [LABEL_COLOR_MAP[l] for l in X_clustered]\n",
    "\n",
    "# Plot the scatter digram\n",
    "plt.figure(figsize = (7,7))\n",
    "plt.xlabel('Size')\n",
    "plt.ylabel('Eat Breakfast')\n",
    "plt.scatter(x_9d[:,0],x_9d[:,2], c = kmeans.labels_, cmap='rainbow')  \n",
    "\n",
    "# plt.scatter(x_9d[:,0],x_9d[:,2], c= label_color, alpha=0.5) \n",
    "plt.show()"
   ]
  },
  {
   "cell_type": "markdown",
   "metadata": {},
   "source": [
    "# Siraj"
   ]
  },
  {
   "cell_type": "code",
   "execution_count": 53,
   "metadata": {},
   "outputs": [],
   "source": [
    "%matplotlib inline\n",
    "from copy import deepcopy\n",
    "import numpy as np\n",
    "import pandas as pd\n",
    "from matplotlib import pyplot as plt\n",
    "plt.rcParams['figure.figsize'] = (16, 9)\n",
    "plt.style.use('ggplot')"
   ]
  },
  {
   "cell_type": "code",
   "execution_count": 54,
   "metadata": {},
   "outputs": [],
   "source": [
    "# Getting the values and plotting it\n",
    "\n",
    "f1 = df2['sizec'].values\n",
    "f2 = df2['breakfastc'].values\n",
    "X = np.array(list(zip(f1, f2)))\n",
    "# plt.scatter(f1, f2, c='black', s=7)\n"
   ]
  },
  {
   "cell_type": "code",
   "execution_count": 55,
   "metadata": {},
   "outputs": [
    {
     "name": "stdout",
     "output_type": "stream",
     "text": [
      "[[2. 2.]\n",
      " [2. 0.]\n",
      " [0. 0.]]\n"
     ]
    }
   ],
   "source": [
    "# Euclidean Distance Caculator\n",
    "def dist(a, b, ax=1):\n",
    "    return np.linalg.norm(a - b, axis=ax)\n",
    "\n",
    "# Number of clusters\n",
    "k = 3\n",
    "# X coordinates of random centroids\n",
    "C_x = np.random.randint(0, np.max(X), size=k)\n",
    "# Y coordinates of random centroids\n",
    "C_y = np.random.randint(0, np.max(X), size=k)\n",
    "C = np.array(list(zip(C_x, C_y)), dtype=np.float32)\n",
    "print(C)\n",
    "# Plotting along with the Centroids\n",
    "# plt.scatter(f1, f2, c='#050505', s=7)\n",
    "# plt.scatter(C_x, C_y, marker='*', s=200, c='g')"
   ]
  },
  {
   "cell_type": "code",
   "execution_count": 56,
   "metadata": {},
   "outputs": [],
   "source": [
    "# To store the value of centroids when it updates\n",
    "C_old = np.zeros(C.shape)\n",
    "# Cluster Lables(0, 1, 2)\n",
    "clusters = np.zeros(len(X))\n",
    "# Error func. - Distance between new centroids and old centroids\n",
    "error = dist(C, C_old, None)\n",
    "# Loop will run till the error becomes zero\n",
    "while error != 0:\n",
    "    # Assigning each value to its closest cluster\n",
    "    for i in range(len(X)):\n",
    "        distances = dist(X[i], C)\n",
    "        cluster = np.argmin(distances)\n",
    "        clusters[i] = cluster\n",
    "    # Storing the old centroid values\n",
    "    C_old = deepcopy(C)\n",
    "    # Finding the new centroids by taking the average value\n",
    "    for i in range(k):\n",
    "        points = [X[j] for j in range(len(X)) if clusters[j] == i]\n",
    "        C[i] = np.mean(points, axis=0)\n",
    "    error = dist(C, C_old, None)"
   ]
  },
  {
   "cell_type": "code",
   "execution_count": 57,
   "metadata": {},
   "outputs": [
    {
     "data": {
      "text/plain": [
       "<matplotlib.collections.PathCollection at 0x114a18908>"
      ]
     },
     "execution_count": 57,
     "metadata": {},
     "output_type": "execute_result"
    },
    {
     "data": {
      "image/png": "[encoded data removed]",
      "text/plain": [
       "<matplotlib.figure.Figure at 0x114b09588>"
      ]
     },
     "metadata": {},
     "output_type": "display_data"
    }
   ],
   "source": [
    "colors = ['r', 'g', 'b', 'y', 'c', 'm']\n",
    "fig, ax = plt.subplots()\n",
    "for i in range(k):\n",
    "        points = np.array([X[j] for j in range(len(X)) if clusters[j] == i])\n",
    "        ax.scatter(points[:, 0], points[:, 1], s=7, c=colors[i])\n",
    "ax.scatter(C[:, 0], C[:, 1], marker='*', s=200, c='#050505')"
   ]
  },
  {
   "cell_type": "code",
   "execution_count": 24,
   "metadata": {},
   "outputs": [],
   "source": [
    "from sklearn.cluster import KMeans\n",
    "\n",
    "# Number of clusters\n",
    "kmeans = KMeans(n_clusters=3)\n",
    "# Fitting the input data\n",
    "kmeans = kmeans.fit(X)\n",
    "# Getting the cluster labels\n",
    "labels = kmeans.predict(X)\n",
    "# Centroid values\n",
    "centroids = kmeans.cluster_centers_"
   ]
  },
  {
   "cell_type": "code",
   "execution_count": 59,
   "metadata": {},
   "outputs": [
    {
     "name": "stdout",
     "output_type": "stream",
     "text": [
      "[[1.9523809 1.       ]\n",
      " [1.6388888 0.       ]\n",
      " [0.        0.25     ]]\n",
      "[[3.         0.72727273]\n",
      " [0.76       0.44      ]\n",
      " [2.         0.71794872]]\n"
     ]
    }
   ],
   "source": [
    "# Comparing with scikit-learn centroids\n",
    "print(C) # From Scratch\n",
    "print(centroids) # From sci-kit learn"
   ]
  },
  {
   "cell_type": "code",
   "execution_count": 60,
   "metadata": {},
   "outputs": [],
   "source": [
    "import numpy as np\n",
    "import matplotlib.pyplot as plt\n",
    "from mpl_toolkits.mplot3d import Axes3D\n",
    "from sklearn.cluster import KMeans\n",
    "from sklearn.datasets import make_blobs\n",
    "\n",
    "plt.rcParams['figure.figsize'] = (16, 9)\n",
    "\n",
    "# Creating a sample dataset with 4 clusters\n",
    "# X, y = make_blobs(n_samples=800, n_features=3, centers=4)"
   ]
  },
  {
   "cell_type": "code",
   "execution_count": 61,
   "metadata": {},
   "outputs": [],
   "source": [
    "# fig = plt.figure()\n",
    "# ax = Axes3D(fig)\n",
    "# ax.scatter(X[:, 0], X[:, 1], X[:, 2])\n"
   ]
  },
  {
   "cell_type": "code",
   "execution_count": 62,
   "metadata": {},
   "outputs": [],
   "source": [
    "# Initializing KMeans\n",
    "kmeans = KMeans(n_clusters=4)\n",
    "# Fitting with inputs\n",
    "kmeans = kmeans.fit(X)\n",
    "# Predicting the clusters\n",
    "labels = kmeans.predict(X)\n",
    "# Getting the cluster centers\n",
    "C = kmeans.cluster_centers_"
   ]
  },
  {
   "cell_type": "code",
   "execution_count": 63,
   "metadata": {},
   "outputs": [],
   "source": [
    "# fig = plt.figure()\n",
    "# ax = Axes3D(fig)\n",
    "# ax.scatter(X[:, 0], X[:, 1], X[:, 2], c=y)\n",
    "# ax.scatter(C[:, 0], C[:, 1], C[:, 2], marker='*', c='#050505', s=1000)"
   ]
  },
  {
   "cell_type": "code",
   "execution_count": null,
   "metadata": {},
   "outputs": [],
   "source": []
  },
  {
   "cell_type": "markdown",
   "metadata": {},
   "source": [
    "# Simple"
   ]
  },
  {
   "cell_type": "code",
   "execution_count": 21,
   "metadata": {},
   "outputs": [],
   "source": [
    "# f5 = df2['salaryc'].values\n",
    "f4 = df2['age'].values\n",
    "f3 = df2['sexc'].values\n",
    "# f4 = df2['sizec'].values\n",
    "# f5 = df2['breakfastc'].values\n",
    "# f6 = df2['lunchc'].values\n",
    "# f7 = df2['dinnerc'].values\n",
    "# f8 = df2['latec'].values\n",
    "X = np.array(list(zip(f3,f4)))\n",
    "# X = np.array(list(zip(f1, f2,f3,f4,f5,f6,f7,f8)))\n",
    "\n",
    "data = df2.fillna(value=0, axis=1)\n",
    "\n",
    "# plt.scatter(f1, f2, c='black', s=7)\n",
    "# X = data.values\n",
    "# Data Normalization\n",
    "from sklearn.preprocessing import StandardScaler\n",
    "X_std = StandardScaler().fit_transform(X)"
   ]
  },
  {
   "cell_type": "code",
   "execution_count": 22,
   "metadata": {},
   "outputs": [
    {
     "data": {
      "text/plain": [
       "<matplotlib.collections.PathCollection at 0x113478c18>"
      ]
     },
     "execution_count": 22,
     "metadata": {},
     "output_type": "execute_result"
    },
    {
     "data": {
      "image/png": "[encoded data removed]",
      "text/plain": [
       "<matplotlib.figure.Figure at 0x110f7e160>"
      ]
     },
     "metadata": {},
     "output_type": "display_data"
    }
   ],
   "source": [
    "plt.figure(figsize = (5,5))\n",
    "plt.scatter(X[:,0],X[:,1], label='True Position') "
   ]
  },
  {
   "cell_type": "code",
   "execution_count": 25,
   "metadata": {},
   "outputs": [
    {
     "data": {
      "text/plain": [
       "KMeans(algorithm='auto', copy_x=True, init='k-means++', max_iter=300,\n",
       "    n_clusters=2, n_init=10, n_jobs=1, precompute_distances='auto',\n",
       "    random_state=None, tol=0.0001, verbose=0)"
      ]
     },
     "execution_count": 25,
     "metadata": {},
     "output_type": "execute_result"
    }
   ],
   "source": [
    "kmeans = KMeans(n_clusters=2)  \n",
    "kmeans.fit(X)  "
   ]
  },
  {
   "cell_type": "code",
   "execution_count": 26,
   "metadata": {},
   "outputs": [
    {
     "name": "stdout",
     "output_type": "stream",
     "text": [
      "[[ 0.77358491 21.17924528]\n",
      " [ 1.         -0.2       ]]\n"
     ]
    }
   ],
   "source": [
    "print(kmeans.cluster_centers_)  \n"
   ]
  },
  {
   "cell_type": "code",
   "execution_count": 27,
   "metadata": {},
   "outputs": [
    {
     "name": "stdout",
     "output_type": "stream",
     "text": [
      "[0 0 0 0 0 0 0 0 0 0 0 0 0 0 0 0 0 1 0 0 0 0 0 0 0 0 0 0 0 0 0 0 0 0 0 0 0\n",
      " 0 0 0 0 0 0 0 0 0 0 0 0 0 1 0 0 0 0 0 0 0 0 0 0 0 0 0 0 0 0 0 0 0 0 0 0 0\n",
      " 0 0 0 0 0 0 0 0 0 0 0 0 0 0 0 0 0 0 0 1 0 0 0 1 0 0 0 0 0 0 0 1 0 0 0 0 0]\n"
     ]
    }
   ],
   "source": [
    "print(kmeans.labels_)  \n"
   ]
  },
  {
   "cell_type": "code",
   "execution_count": 28,
   "metadata": {},
   "outputs": [
    {
     "data": {
      "text/plain": [
       "<matplotlib.collections.PathCollection at 0x114a20c88>"
      ]
     },
     "execution_count": 28,
     "metadata": {},
     "output_type": "execute_result"
    },
    {
     "data": {
      "image/png": "[encoded data removed]",
      "text/plain": [
       "<matplotlib.figure.Figure at 0x11488f7f0>"
      ]
     },
     "metadata": {},
     "output_type": "display_data"
    }
   ],
   "source": [
    "plt.figure(figsize = (6,6))\n",
    "kmeans.fit_predict(X)\n",
    "\n",
    "plt.scatter(X[:,0],X[:,1], c=kmeans.labels_, cmap='rainbow')  \n"
   ]
  },
  {
   "cell_type": "code",
   "execution_count": 70,
   "metadata": {},
   "outputs": [],
   "source": [
    "# plt.figure(figsize = (6,6))\n",
    "# kmeans.fit_predict(X)\n",
    "# plt.scatter(X[:,0],X[:,1], c = kmeans.labels_, cmap='rainbow')  \n",
    "# plt.scatter(kmeans.cluster_centers_[:,0],kmeans.cluster_centers_[:,0], color='black')  "
   ]
  },
  {
   "cell_type": "code",
   "execution_count": 71,
   "metadata": {},
   "outputs": [],
   "source": [
    "# # Set a 3 KMeans clustering\n",
    "# kmeans = KMeans(n_clusters=2)\n",
    "# # Compute cluster centers and predict cluster indices\n",
    "# X_clustered = kmeans.fit_predict(X)\n",
    "\n",
    "# # Define our own color map\n",
    "# LABEL_COLOR_MAP = {0 : 'r',1 : 'g',2 : 'b'}\n",
    "# label_color = [LABEL_COLOR_MAP[l] for l in X_clustered]\n",
    "\n",
    "# # Plot the scatter digram\n",
    "# plt.figure(figsize = (7,7))\n",
    "# plt.scatter(X[:,0],X[:,2], c= label_color, alpha=0.5) \n",
    "# plt.show()"
   ]
  },
  {
   "cell_type": "markdown",
   "metadata": {},
   "source": [
    "# Simple2 X_std"
   ]
  },
  {
   "cell_type": "code",
   "execution_count": 41,
   "metadata": {},
   "outputs": [],
   "source": [
    "f1 = df2['salaryc'].values\n",
    "f2 = df2['age'].values\n",
    "f3 = df2['sexc'].values\n",
    "f4 = df2['sizec'].values\n",
    "f5 = df2['breakfastc'].values\n",
    "f6 = df2['lunchc'].values\n",
    "f7 = df2['dinnerc'].values\n",
    "f8 = df2['latec'].values\n",
    "X = np.array(list(zip(f2,f3)))\n",
    "# X = np.array(list(zip(f1, f2,f3,f4,f5,f6,f7,f8)))\n",
    "\n",
    "data = df2.fillna(value=0, axis=1)\n",
    "\n",
    "# plt.scatter(f1, f2, c='black', s=7)\n",
    "X = data.values\n",
    "# Data Normalization\n",
    "from sklearn.preprocessing import StandardScaler\n",
    "X_std = StandardScaler().fit_transform(X)"
   ]
  },
  {
   "cell_type": "code",
   "execution_count": 42,
   "metadata": {},
   "outputs": [
    {
     "data": {
      "text/plain": [
       "KMeans(algorithm='auto', copy_x=True, init='k-means++', max_iter=300,\n",
       "    n_clusters=2, n_init=10, n_jobs=1, precompute_distances='auto',\n",
       "    random_state=None, tol=0.0001, verbose=0)"
      ]
     },
     "execution_count": 42,
     "metadata": {},
     "output_type": "execute_result"
    },
    {
     "data": {
      "image/png": "[encoded data removed]",
      "text/plain": [
       "<matplotlib.figure.Figure at 0x114f68dd8>"
      ]
     },
     "metadata": {},
     "output_type": "display_data"
    }
   ],
   "source": [
    "plt.figure(figsize = (5,5))\n",
    "plt.scatter(X_std[:,0],X_std[:,1], label='True Position') \n",
    "kmeans = KMeans(n_clusters=2)  \n",
    "kmeans.fit(X_std)  "
   ]
  },
  {
   "cell_type": "code",
   "execution_count": 43,
   "metadata": {},
   "outputs": [
    {
     "name": "stdout",
     "output_type": "stream",
     "text": [
      "[[-0.09206162  0.02263904  0.11080193  0.04495757  0.05314997 -0.27919982\n",
      "  -0.12377976 -0.25433226 -0.19846318 -0.30846462 -0.17867189 -0.27066185\n",
      "  -0.20527381 -0.36840776 -0.15755171 -0.09163442 -0.16038041 -0.08431201\n",
      "  -0.0424755  -0.34749192 -0.24148312 -0.37739112 -0.31712292 -0.57896266\n",
      "  -0.65363784 -0.61269584 -0.4273156  -0.30880759 -0.43928468]\n",
      " [ 0.10074668 -0.0247748  -0.12125495 -0.04919885 -0.05816412  0.30553942\n",
      "   0.13545709  0.27832587  0.21718612  0.33756506  0.19552772  0.29619599\n",
      "   0.22463926  0.40316321  0.17241508  0.10027917  0.17551063  0.09226597\n",
      "   0.04648262  0.38027417  0.26426455  0.41299405  0.34704018  0.63358178\n",
      "   0.71530178  0.67049733  0.46762839  0.33794038  0.48072663]]\n",
      "[1 0 1 0 1 0 0 1 1 1 1 0 1 1 1 0 1 1 1 0 1 0 0 0 0 1 0 1 0 0 0 1 1 1 1 1 0\n",
      " 0 1 0 0 1 0 0 1 0 1 0 0 1 0 0 1 1 1 1 1 0 1 1 1 0 1 1 0 1 0 0 1 1 1 0 0 0\n",
      " 0 1 0 0 0 0 1 0 1 0 0 1 0 1 0 0 1 1 1 1 0 1 0 0 0 0 0 1 0 0 1 0 0 1 0 0 0]\n"
     ]
    }
   ],
   "source": [
    "print(kmeans.cluster_centers_) \n",
    "print(kmeans.labels_)  \n"
   ]
  },
  {
   "cell_type": "code",
   "execution_count": 44,
   "metadata": {},
   "outputs": [
    {
     "data": {
      "text/plain": [
       "<matplotlib.collections.PathCollection at 0x11508ca58>"
      ]
     },
     "execution_count": 44,
     "metadata": {},
     "output_type": "execute_result"
    },
    {
     "data": {
      "image/png": "[encoded data removed]",
      "text/plain": [
       "<matplotlib.figure.Figure at 0x114f9a8d0>"
      ]
     },
     "metadata": {},
     "output_type": "display_data"
    }
   ],
   "source": [
    "plt.figure(figsize = (6,6))\n",
    "kmeans.fit_predict(X_std)\n",
    "\n",
    "plt.scatter(X_std[:,0],X_std[:,1], c=kmeans.labels_, cmap='rainbow')  "
   ]
  },
  {
   "cell_type": "code",
   "execution_count": 45,
   "metadata": {},
   "outputs": [
    {
     "data": {
      "text/plain": [
       "<matplotlib.collections.PathCollection at 0x1151cddd8>"
      ]
     },
     "execution_count": 45,
     "metadata": {},
     "output_type": "execute_result"
    },
    {
     "data": {
      "image/png": "[encoded data removed]",
      "text/plain": [
       "<matplotlib.figure.Figure at 0x114ea8be0>"
      ]
     },
     "metadata": {},
     "output_type": "display_data"
    }
   ],
   "source": [
    "plt.figure(figsize = (6,6))\n",
    "kmeans.fit_predict(X)\n",
    "plt.scatter(X[:,0],X[:,1], c = kmeans.labels_, cmap='rainbow')  \n",
    "plt.scatter(kmeans.cluster_centers_[:,0],kmeans.cluster_centers_[:,0], color='black')  "
   ]
  },
  {
   "cell_type": "code",
   "execution_count": 46,
   "metadata": {},
   "outputs": [],
   "source": [
    "from sklearn.preprocessing import StandardScaler\n",
    "from sklearn.decomposition import PCA\n",
    "\n",
    "X_std = StandardScaler().fit_transform(X)\n",
    "pca = PCA(n_components=2)\n",
    "x_9d = pca.fit_transform(X_std)\n"
   ]
  },
  {
   "cell_type": "code",
   "execution_count": 47,
   "metadata": {},
   "outputs": [],
   "source": [
    "# plt.figure(figsize = (7,7))\n",
    "# plt.scatter(x_9d[:,0],x_9d[:,1], c='goldenrod',alpha=0.5)\n",
    "# plt.ylim(-10,30)\n",
    "# plt.show()"
   ]
  },
  {
   "cell_type": "code",
   "execution_count": 48,
   "metadata": {},
   "outputs": [
    {
     "data": {
      "image/png": "[encoded data removed]",
      "text/plain": [
       "<matplotlib.figure.Figure at 0x114f8d128>"
      ]
     },
     "metadata": {},
     "output_type": "display_data"
    }
   ],
   "source": [
    "# Set a 3 KMeans clustering\n",
    "# kmeans = KMeans(n_clusters=2)\n",
    "kmeans = KMeans(n_clusters=2).fit(X)\n",
    "kmeans.fit_predict(x_9d)\n",
    "# Compute cluster centers and predict cluster indices\n",
    "X_clustered = kmeans.fit_predict(X)\n",
    "\n",
    "# Define our own color map\n",
    "LABEL_COLOR_MAP = {0 : 'r',1 : 'g',2 : 'b',3 : 'y'}\n",
    "label_color = [LABEL_COLOR_MAP[l] for l in X_clustered]\n",
    "\n",
    "# Plot the scatter digram\n",
    "plt.figure(figsize = (6,6))\n",
    "# plt.xlabel('Size')\n",
    "# plt.ylabel('Eat Breakfast')\n",
    "# plt.scatter(x_9d[:,0],x_9d[:,1], c = kmeans.labels_, cmap='rainbow')  \n",
    "\n",
    "plt.scatter(x_9d[:,0],x_9d[:,1], c= label_color, alpha=0.5) \n",
    "plt.show()"
   ]
  },
  {
   "cell_type": "code",
   "execution_count": 51,
   "metadata": {},
   "outputs": [
    {
     "data": {
      "text/plain": [
       "<matplotlib.collections.PathCollection at 0x115475c88>"
      ]
     },
     "execution_count": 51,
     "metadata": {},
     "output_type": "execute_result"
    },
    {
     "data": {
      "image/png": "[encoded data removed]",
      "text/plain": [
       "<matplotlib.figure.Figure at 0x115292eb8>"
      ]
     },
     "metadata": {},
     "output_type": "display_data"
    }
   ],
   "source": [
    "plt.figure(figsize = (6,6))\n",
    "kmeans.fit_predict(X)\n",
    "plt.scatter(x_9d[:,0],x_9d[:,1], c = kmeans.labels_, cmap='rainbow')  \n",
    "plt.scatter(kmeans.cluster_centers_[:,1],kmeans.cluster_centers_[:,0], color='black')  "
   ]
  },
  {
   "cell_type": "code",
   "execution_count": 50,
   "metadata": {},
   "outputs": [],
   "source": [
    "import numpy as np\n",
    "import matplotlib.pyplot as plt\n",
    "import pandas as pd\n",
    "df=pd.read_csv('inf.csv')"
   ]
  },
  {
   "cell_type": "code",
   "execution_count": 5,
   "metadata": {},
   "outputs": [
    {
     "data": {
      "text/html": [
       "<div>\n",
       "<style scoped>\n",
       "    .dataframe tbody tr th:only-of-type {\n",
       "        vertical-align: middle;\n",
       "    }\n",
       "\n",
       "    .dataframe tbody tr th {\n",
       "        vertical-align: top;\n",
       "    }\n",
       "\n",
       "    .dataframe thead th {\n",
       "        text-align: right;\n",
       "    }\n",
       "</style>\n",
       "<table border=\"1\" class=\"dataframe\">\n",
       "  <thead>\n",
       "    <tr style=\"text-align: right;\">\n",
       "      <th></th>\n",
       "      <th>id</th>\n",
       "      <th>age</th>\n",
       "      <th>birthdate</th>\n",
       "      <th>sex</th>\n",
       "      <th>salary</th>\n",
       "      <th>size</th>\n",
       "      <th>breakfast</th>\n",
       "      <th>lunch</th>\n",
       "      <th>dinner</th>\n",
       "      <th>late</th>\n",
       "      <th>...</th>\n",
       "      <th>shabu</th>\n",
       "      <th>grill</th>\n",
       "      <th>steak</th>\n",
       "      <th>fastfood</th>\n",
       "      <th>cake</th>\n",
       "      <th>dessert</th>\n",
       "      <th>coffee</th>\n",
       "      <th>juice</th>\n",
       "      <th>created_at</th>\n",
       "      <th>user_id</th>\n",
       "    </tr>\n",
       "  </thead>\n",
       "  <tbody>\n",
       "    <tr>\n",
       "      <th>0</th>\n",
       "      <td>1</td>\n",
       "      <td>21</td>\n",
       "      <td>1996-07-19</td>\n",
       "      <td>male</td>\n",
       "      <td>น้อยกว่า 10,000</td>\n",
       "      <td>fit</td>\n",
       "      <td>f</td>\n",
       "      <td>t</td>\n",
       "      <td>t</td>\n",
       "      <td>f</td>\n",
       "      <td>...</td>\n",
       "      <td>f</td>\n",
       "      <td>f</td>\n",
       "      <td>t</td>\n",
       "      <td>t</td>\n",
       "      <td>t</td>\n",
       "      <td>t</td>\n",
       "      <td>f</td>\n",
       "      <td>t</td>\n",
       "      <td>2018-02-12 17:15:15.007524+07</td>\n",
       "      <td>4</td>\n",
       "    </tr>\n",
       "    <tr>\n",
       "      <th>1</th>\n",
       "      <td>2</td>\n",
       "      <td>20</td>\n",
       "      <td>1998-02-13</td>\n",
       "      <td>female</td>\n",
       "      <td>น้อยกว่า 10,000</td>\n",
       "      <td>thin</td>\n",
       "      <td>f</td>\n",
       "      <td>t</td>\n",
       "      <td>t</td>\n",
       "      <td>t</td>\n",
       "      <td>...</td>\n",
       "      <td>f</td>\n",
       "      <td>f</td>\n",
       "      <td>f</td>\n",
       "      <td>t</td>\n",
       "      <td>t</td>\n",
       "      <td>f</td>\n",
       "      <td>f</td>\n",
       "      <td>f</td>\n",
       "      <td>2018-02-18 11:35:55.301258+07</td>\n",
       "      <td>23</td>\n",
       "    </tr>\n",
       "  </tbody>\n",
       "</table>\n",
       "<p>2 rows × 33 columns</p>\n",
       "</div>"
      ],
      "text/plain": [
       "   id  age   birthdate     sex           salary  size breakfast lunch dinner  \\\n",
       "0   1   21  1996-07-19    male  น้อยกว่า 10,000   fit         f     t      t   \n",
       "1   2   20  1998-02-13  female  น้อยกว่า 10,000  thin         f     t      t   \n",
       "\n",
       "  late   ...   shabu grill steak fastfood cake dessert coffee juice  \\\n",
       "0    f   ...       f     f     t        t    t       t      f     t   \n",
       "1    t   ...       f     f     f        t    t       f      f     f   \n",
       "\n",
       "                      created_at user_id  \n",
       "0  2018-02-12 17:15:15.007524+07       4  \n",
       "1  2018-02-18 11:35:55.301258+07      23  \n",
       "\n",
       "[2 rows x 33 columns]"
      ]
     },
     "execution_count": 5,
     "metadata": {},
     "output_type": "execute_result"
    }
   ],
   "source": [
    "df.head(n=2)"
   ]
  },
  {
   "cell_type": "code",
   "execution_count": 11,
   "metadata": {},
   "outputs": [
    {
     "data": {
      "text/plain": [
       "<matplotlib.collections.PathCollection at 0x11165a6a0>"
      ]
     },
     "execution_count": 11,
     "metadata": {},
     "output_type": "execute_result"
    },
    {
     "data": {
      "image/png": "[encoded data removed]",
      "text/plain": [
       "<matplotlib.figure.Figure at 0x111749ef0>"
      ]
     },
     "metadata": {},
     "output_type": "display_data"
    }
   ],
   "source": [
    "plt.figure(figsize = (7,7))\n",
    "plt.xlabel('Size')\n",
    "plt.ylabel('Eat Breakfast')\n",
    "plt.scatter(df[\"size\"],df[\"age\"],c=\"g\", cmap='rainbow')  \n"
   ]
  },
  {
   "cell_type": "code",
   "execution_count": 13,
   "metadata": {},
   "outputs": [
    {
     "data": {
      "image/png": "[encoded data removed]",
      "text/plain": [
       "<matplotlib.figure.Figure at 0x1118555c0>"
      ]
     },
     "metadata": {},
     "output_type": "display_data"
    }
   ],
   "source": [
    "plt.scatter(df[\"size\"],df[\"age\"])\n",
    "\n",
    "plt.show()"
   ]
  },
  {
   "cell_type": "code",
   "execution_count": null,
   "metadata": {},
   "outputs": [],
   "source": []
  }
 ],
 "metadata": {
  "kernelspec": {
   "display_name": "Python 3",
   "language": "python",
   "name": "python3"
  },
  "language_info": {
   "codemirror_mode": {
    "name": "ipython",
    "version": 3
   },
   "file_extension": ".py",
   "mimetype": "text/x-python",
   "name": "python",
   "nbconvert_exporter": "python",
   "pygments_lexer": "ipython3",
   "version": "3.6.4"
  }
 },
 "nbformat": 4,
 "nbformat_minor": 2
}
